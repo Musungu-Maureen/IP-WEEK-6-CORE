{
  "nbformat": 4,
  "nbformat_minor": 0,
  "metadata": {
    "colab": {
      "name": "Maureen Musungu Week 6 IP Core",
      "provenance": [],
      "collapsed_sections": [
        "vTbdjSrhVIiT",
        "lQ2G4ZPDVOXE",
        "xrmHVMVsVS--",
        "HPQviDmNtta8",
        "qjFHK1CKty7o",
        "HSsicSdvt4Zs"
      ],
      "toc_visible": true,
      "include_colab_link": true
    },
    "kernelspec": {
      "name": "python3",
      "display_name": "Python 3"
    }
  },
  "cells": [
    {
      "cell_type": "markdown",
      "metadata": {
        "id": "view-in-github",
        "colab_type": "text"
      },
      "source": [
        "<a href=\"https://colab.research.google.com/github/Musungu-Maureen/IP-WEEK-6-CORE/blob/main/Maureen_Musungu_Week_6_IP_Core.ipynb\" target=\"_parent\"><img src=\"https://colab.research.google.com/assets/colab-badge.svg\" alt=\"Open In Colab\"/></a>"
      ]
    },
    {
      "cell_type": "markdown",
      "metadata": {
        "id": "xMxtPsqcTsSH"
      },
      "source": [
        "# Football prediction"
      ]
    },
    {
      "cell_type": "markdown",
      "metadata": {
        "id": "kLG2VTrnTvYL"
      },
      "source": [
        "## 1. Defining the Question"
      ]
    },
    {
      "cell_type": "markdown",
      "metadata": {
        "id": "XecOwPNorl2W"
      },
      "source": [
        "### a) Specifying the Data Analytic Question"
      ]
    },
    {
      "cell_type": "markdown",
      "metadata": {
        "id": "9ozBnKfehSAw"
      },
      "source": [
        "> To create a model which will predict the result of a game between team 1 and team 2 either at home or away and on whether or not the game is friendly while also checking the team's rankings. "
      ]
    },
    {
      "cell_type": "markdown",
      "metadata": {
        "id": "E6iXbZBwwXtJ"
      },
      "source": [
        ""
      ]
    },
    {
      "cell_type": "markdown",
      "metadata": {
        "id": "J4wfHZwQrs-t"
      },
      "source": [
        "### b) Defining the Metric for Success"
      ]
    },
    {
      "cell_type": "markdown",
      "metadata": {
        "id": "3zaOQfWJ-sNv"
      },
      "source": [
        "The project will be considered a success if the models created are able to predict results of a game. "
      ]
    },
    {
      "cell_type": "markdown",
      "metadata": {
        "id": "a9BPYqunry97"
      },
      "source": [
        "### c) Understanding the context "
      ]
    },
    {
      "cell_type": "markdown",
      "metadata": {
        "id": "KW-h9OmzBW8q"
      },
      "source": [
        "The men's FIFA World Ranking is a ranking system for men's national teams in association football. The teams of the men's member nations of FIFA, football's world governing body, are ranked based on their game results with the most successful teams being ranked highest.\n",
        "\n",
        "\n",
        "\n"
      ]
    },
    {
      "cell_type": "markdown",
      "metadata": {
        "id": "TBHibwUUJRav"
      },
      "source": [
        "### d) Experimental design taken"
      ]
    },
    {
      "cell_type": "markdown",
      "metadata": {
        "id": "Q95NytrmJ0ww"
      },
      "source": [
        "In this study, we will be conducting Explorative Data Analysis, i.e Univariate, Bivariate and Multivariate Analysis to get the relationships and differences between different variables. We will also create models using polynomial regression and logistic regression\n"
      ]
    },
    {
      "cell_type": "markdown",
      "metadata": {
        "id": "zSGyg6kWsBUl"
      },
      "source": [
        "### e) Data Relevance"
      ]
    },
    {
      "cell_type": "markdown",
      "metadata": {
        "id": "nrHJXM0rNK1g"
      },
      "source": [
        "We will be using two datasets:\n",
        "\n",
        "\n",
        "1.  'fifa_rankings.csv' - This is a file that shows FIFA rankings and points on a monthly basis from 1993 to 2018. \n",
        "\n",
        "\n",
        "2.  'results.csv' - This file gives the international soccer matches from 1872 to 2019 showing the teams, scores tournament type and the country where in the game was played. \n",
        "\n",
        "The availed datasets are suitable to be used to create models to predict the result of a game between team 1 and 2, looking at their location as either home or away and whether the match was friendly or not.\n",
        "\n",
        "\n"
      ]
    },
    {
      "cell_type": "markdown",
      "metadata": {
        "id": "iUNbvIvnT7ep"
      },
      "source": [
        "## 2. Reading the Data"
      ]
    },
    {
      "cell_type": "code",
      "metadata": {
        "id": "sneeWA-6ORxk"
      },
      "source": [
        "#First we will import the necessary libraries\n",
        "\n",
        "import numpy as np\n",
        "import pandas as pd\n",
        "import matplotlib.pyplot as plt\n",
        "import seaborn as sns\n",
        "import scipy.stats as stats\n"
      ],
      "execution_count": 95,
      "outputs": []
    },
    {
      "cell_type": "code",
      "metadata": {
        "id": "XJn2KjW-WMlG",
        "colab": {
          "base_uri": "https://localhost:8080/",
          "height": 215
        },
        "outputId": "1f253023-1ca9-4b39-e127-fa67c6db1dfa"
      },
      "source": [
        "# Loading the Data from the source\n",
        "# ---\n",
        "ranking = pd.read_csv('fifa_ranking.csv')\n",
        "#Previewing the upper part of the data\n",
        "ranking.head(3)"
      ],
      "execution_count": 2,
      "outputs": [
        {
          "output_type": "execute_result",
          "data": {
            "text/html": [
              "<div>\n",
              "<style scoped>\n",
              "    .dataframe tbody tr th:only-of-type {\n",
              "        vertical-align: middle;\n",
              "    }\n",
              "\n",
              "    .dataframe tbody tr th {\n",
              "        vertical-align: top;\n",
              "    }\n",
              "\n",
              "    .dataframe thead th {\n",
              "        text-align: right;\n",
              "    }\n",
              "</style>\n",
              "<table border=\"1\" class=\"dataframe\">\n",
              "  <thead>\n",
              "    <tr style=\"text-align: right;\">\n",
              "      <th></th>\n",
              "      <th>rank</th>\n",
              "      <th>country_full</th>\n",
              "      <th>country_abrv</th>\n",
              "      <th>total_points</th>\n",
              "      <th>previous_points</th>\n",
              "      <th>rank_change</th>\n",
              "      <th>cur_year_avg</th>\n",
              "      <th>cur_year_avg_weighted</th>\n",
              "      <th>last_year_avg</th>\n",
              "      <th>last_year_avg_weighted</th>\n",
              "      <th>two_year_ago_avg</th>\n",
              "      <th>two_year_ago_weighted</th>\n",
              "      <th>three_year_ago_avg</th>\n",
              "      <th>three_year_ago_weighted</th>\n",
              "      <th>confederation</th>\n",
              "      <th>rank_date</th>\n",
              "    </tr>\n",
              "  </thead>\n",
              "  <tbody>\n",
              "    <tr>\n",
              "      <th>0</th>\n",
              "      <td>1</td>\n",
              "      <td>Germany</td>\n",
              "      <td>GER</td>\n",
              "      <td>0.0</td>\n",
              "      <td>57</td>\n",
              "      <td>0</td>\n",
              "      <td>0.0</td>\n",
              "      <td>0.0</td>\n",
              "      <td>0.0</td>\n",
              "      <td>0.0</td>\n",
              "      <td>0.0</td>\n",
              "      <td>0.0</td>\n",
              "      <td>0.0</td>\n",
              "      <td>0.0</td>\n",
              "      <td>UEFA</td>\n",
              "      <td>1993-08-08</td>\n",
              "    </tr>\n",
              "    <tr>\n",
              "      <th>1</th>\n",
              "      <td>2</td>\n",
              "      <td>Italy</td>\n",
              "      <td>ITA</td>\n",
              "      <td>0.0</td>\n",
              "      <td>57</td>\n",
              "      <td>0</td>\n",
              "      <td>0.0</td>\n",
              "      <td>0.0</td>\n",
              "      <td>0.0</td>\n",
              "      <td>0.0</td>\n",
              "      <td>0.0</td>\n",
              "      <td>0.0</td>\n",
              "      <td>0.0</td>\n",
              "      <td>0.0</td>\n",
              "      <td>UEFA</td>\n",
              "      <td>1993-08-08</td>\n",
              "    </tr>\n",
              "    <tr>\n",
              "      <th>2</th>\n",
              "      <td>3</td>\n",
              "      <td>Switzerland</td>\n",
              "      <td>SUI</td>\n",
              "      <td>0.0</td>\n",
              "      <td>50</td>\n",
              "      <td>9</td>\n",
              "      <td>0.0</td>\n",
              "      <td>0.0</td>\n",
              "      <td>0.0</td>\n",
              "      <td>0.0</td>\n",
              "      <td>0.0</td>\n",
              "      <td>0.0</td>\n",
              "      <td>0.0</td>\n",
              "      <td>0.0</td>\n",
              "      <td>UEFA</td>\n",
              "      <td>1993-08-08</td>\n",
              "    </tr>\n",
              "  </tbody>\n",
              "</table>\n",
              "</div>"
            ],
            "text/plain": [
              "   rank country_full  ... confederation   rank_date\n",
              "0     1      Germany  ...          UEFA  1993-08-08\n",
              "1     2        Italy  ...          UEFA  1993-08-08\n",
              "2     3  Switzerland  ...          UEFA  1993-08-08\n",
              "\n",
              "[3 rows x 16 columns]"
            ]
          },
          "metadata": {},
          "execution_count": 2
        }
      ]
    },
    {
      "cell_type": "code",
      "metadata": {
        "id": "N8p1JR8ZWqDA",
        "colab": {
          "base_uri": "https://localhost:8080/",
          "height": 215
        },
        "outputId": "0b4772cb-eced-4898-a2c3-b7e68b4b3f30"
      },
      "source": [
        "#Previewing the lower part of the data\n",
        "ranking.tail(3)"
      ],
      "execution_count": 3,
      "outputs": [
        {
          "output_type": "execute_result",
          "data": {
            "text/html": [
              "<div>\n",
              "<style scoped>\n",
              "    .dataframe tbody tr th:only-of-type {\n",
              "        vertical-align: middle;\n",
              "    }\n",
              "\n",
              "    .dataframe tbody tr th {\n",
              "        vertical-align: top;\n",
              "    }\n",
              "\n",
              "    .dataframe thead th {\n",
              "        text-align: right;\n",
              "    }\n",
              "</style>\n",
              "<table border=\"1\" class=\"dataframe\">\n",
              "  <thead>\n",
              "    <tr style=\"text-align: right;\">\n",
              "      <th></th>\n",
              "      <th>rank</th>\n",
              "      <th>country_full</th>\n",
              "      <th>country_abrv</th>\n",
              "      <th>total_points</th>\n",
              "      <th>previous_points</th>\n",
              "      <th>rank_change</th>\n",
              "      <th>cur_year_avg</th>\n",
              "      <th>cur_year_avg_weighted</th>\n",
              "      <th>last_year_avg</th>\n",
              "      <th>last_year_avg_weighted</th>\n",
              "      <th>two_year_ago_avg</th>\n",
              "      <th>two_year_ago_weighted</th>\n",
              "      <th>three_year_ago_avg</th>\n",
              "      <th>three_year_ago_weighted</th>\n",
              "      <th>confederation</th>\n",
              "      <th>rank_date</th>\n",
              "    </tr>\n",
              "  </thead>\n",
              "  <tbody>\n",
              "    <tr>\n",
              "      <th>57790</th>\n",
              "      <td>206</td>\n",
              "      <td>Eritrea</td>\n",
              "      <td>ERI</td>\n",
              "      <td>0.0</td>\n",
              "      <td>0</td>\n",
              "      <td>1</td>\n",
              "      <td>0.0</td>\n",
              "      <td>0.0</td>\n",
              "      <td>0.0</td>\n",
              "      <td>0.0</td>\n",
              "      <td>0.0</td>\n",
              "      <td>0.0</td>\n",
              "      <td>0.0</td>\n",
              "      <td>0.0</td>\n",
              "      <td>CAF</td>\n",
              "      <td>2018-06-07</td>\n",
              "    </tr>\n",
              "    <tr>\n",
              "      <th>57791</th>\n",
              "      <td>206</td>\n",
              "      <td>Somalia</td>\n",
              "      <td>SOM</td>\n",
              "      <td>0.0</td>\n",
              "      <td>0</td>\n",
              "      <td>1</td>\n",
              "      <td>0.0</td>\n",
              "      <td>0.0</td>\n",
              "      <td>0.0</td>\n",
              "      <td>0.0</td>\n",
              "      <td>0.0</td>\n",
              "      <td>0.0</td>\n",
              "      <td>0.0</td>\n",
              "      <td>0.0</td>\n",
              "      <td>CAF</td>\n",
              "      <td>2018-06-07</td>\n",
              "    </tr>\n",
              "    <tr>\n",
              "      <th>57792</th>\n",
              "      <td>206</td>\n",
              "      <td>Tonga</td>\n",
              "      <td>TGA</td>\n",
              "      <td>0.0</td>\n",
              "      <td>0</td>\n",
              "      <td>1</td>\n",
              "      <td>0.0</td>\n",
              "      <td>0.0</td>\n",
              "      <td>0.0</td>\n",
              "      <td>0.0</td>\n",
              "      <td>0.0</td>\n",
              "      <td>0.0</td>\n",
              "      <td>0.0</td>\n",
              "      <td>0.0</td>\n",
              "      <td>OFC</td>\n",
              "      <td>2018-06-07</td>\n",
              "    </tr>\n",
              "  </tbody>\n",
              "</table>\n",
              "</div>"
            ],
            "text/plain": [
              "       rank country_full  ... confederation   rank_date\n",
              "57790   206      Eritrea  ...           CAF  2018-06-07\n",
              "57791   206      Somalia  ...           CAF  2018-06-07\n",
              "57792   206        Tonga  ...           OFC  2018-06-07\n",
              "\n",
              "[3 rows x 16 columns]"
            ]
          },
          "metadata": {},
          "execution_count": 3
        }
      ]
    },
    {
      "cell_type": "code",
      "metadata": {
        "id": "TxX5yWv3nSXe",
        "colab": {
          "base_uri": "https://localhost:8080/",
          "height": 206
        },
        "outputId": "37ff4d3c-9f71-4774-9bb0-a2d4c1381435"
      },
      "source": [
        "# Loading the results Dataframe \n",
        "# ---\n",
        "results = pd.read_csv('results.csv')\n",
        "#Previewing the upper part of the data\n",
        "results.head()"
      ],
      "execution_count": 4,
      "outputs": [
        {
          "output_type": "execute_result",
          "data": {
            "text/html": [
              "<div>\n",
              "<style scoped>\n",
              "    .dataframe tbody tr th:only-of-type {\n",
              "        vertical-align: middle;\n",
              "    }\n",
              "\n",
              "    .dataframe tbody tr th {\n",
              "        vertical-align: top;\n",
              "    }\n",
              "\n",
              "    .dataframe thead th {\n",
              "        text-align: right;\n",
              "    }\n",
              "</style>\n",
              "<table border=\"1\" class=\"dataframe\">\n",
              "  <thead>\n",
              "    <tr style=\"text-align: right;\">\n",
              "      <th></th>\n",
              "      <th>date</th>\n",
              "      <th>home_team</th>\n",
              "      <th>away_team</th>\n",
              "      <th>home_score</th>\n",
              "      <th>away_score</th>\n",
              "      <th>tournament</th>\n",
              "      <th>city</th>\n",
              "      <th>country</th>\n",
              "      <th>neutral</th>\n",
              "    </tr>\n",
              "  </thead>\n",
              "  <tbody>\n",
              "    <tr>\n",
              "      <th>0</th>\n",
              "      <td>1872-11-30</td>\n",
              "      <td>Scotland</td>\n",
              "      <td>England</td>\n",
              "      <td>0</td>\n",
              "      <td>0</td>\n",
              "      <td>Friendly</td>\n",
              "      <td>Glasgow</td>\n",
              "      <td>Scotland</td>\n",
              "      <td>False</td>\n",
              "    </tr>\n",
              "    <tr>\n",
              "      <th>1</th>\n",
              "      <td>1873-03-08</td>\n",
              "      <td>England</td>\n",
              "      <td>Scotland</td>\n",
              "      <td>4</td>\n",
              "      <td>2</td>\n",
              "      <td>Friendly</td>\n",
              "      <td>London</td>\n",
              "      <td>England</td>\n",
              "      <td>False</td>\n",
              "    </tr>\n",
              "    <tr>\n",
              "      <th>2</th>\n",
              "      <td>1874-03-07</td>\n",
              "      <td>Scotland</td>\n",
              "      <td>England</td>\n",
              "      <td>2</td>\n",
              "      <td>1</td>\n",
              "      <td>Friendly</td>\n",
              "      <td>Glasgow</td>\n",
              "      <td>Scotland</td>\n",
              "      <td>False</td>\n",
              "    </tr>\n",
              "    <tr>\n",
              "      <th>3</th>\n",
              "      <td>1875-03-06</td>\n",
              "      <td>England</td>\n",
              "      <td>Scotland</td>\n",
              "      <td>2</td>\n",
              "      <td>2</td>\n",
              "      <td>Friendly</td>\n",
              "      <td>London</td>\n",
              "      <td>England</td>\n",
              "      <td>False</td>\n",
              "    </tr>\n",
              "    <tr>\n",
              "      <th>4</th>\n",
              "      <td>1876-03-04</td>\n",
              "      <td>Scotland</td>\n",
              "      <td>England</td>\n",
              "      <td>3</td>\n",
              "      <td>0</td>\n",
              "      <td>Friendly</td>\n",
              "      <td>Glasgow</td>\n",
              "      <td>Scotland</td>\n",
              "      <td>False</td>\n",
              "    </tr>\n",
              "  </tbody>\n",
              "</table>\n",
              "</div>"
            ],
            "text/plain": [
              "         date home_team away_team  ...     city   country neutral\n",
              "0  1872-11-30  Scotland   England  ...  Glasgow  Scotland   False\n",
              "1  1873-03-08   England  Scotland  ...   London   England   False\n",
              "2  1874-03-07  Scotland   England  ...  Glasgow  Scotland   False\n",
              "3  1875-03-06   England  Scotland  ...   London   England   False\n",
              "4  1876-03-04  Scotland   England  ...  Glasgow  Scotland   False\n",
              "\n",
              "[5 rows x 9 columns]"
            ]
          },
          "metadata": {},
          "execution_count": 4
        }
      ]
    },
    {
      "cell_type": "code",
      "metadata": {
        "id": "kpSp31ClnsNc",
        "colab": {
          "base_uri": "https://localhost:8080/",
          "height": 204
        },
        "outputId": "acd7a3b9-03ec-4b79-9e4b-7f57e584356a"
      },
      "source": [
        "results.tail()"
      ],
      "execution_count": null,
      "outputs": [
        {
          "output_type": "execute_result",
          "data": {
            "text/html": [
              "<div>\n",
              "<style scoped>\n",
              "    .dataframe tbody tr th:only-of-type {\n",
              "        vertical-align: middle;\n",
              "    }\n",
              "\n",
              "    .dataframe tbody tr th {\n",
              "        vertical-align: top;\n",
              "    }\n",
              "\n",
              "    .dataframe thead th {\n",
              "        text-align: right;\n",
              "    }\n",
              "</style>\n",
              "<table border=\"1\" class=\"dataframe\">\n",
              "  <thead>\n",
              "    <tr style=\"text-align: right;\">\n",
              "      <th></th>\n",
              "      <th>date</th>\n",
              "      <th>home_team</th>\n",
              "      <th>away_team</th>\n",
              "      <th>home_score</th>\n",
              "      <th>away_score</th>\n",
              "      <th>tournament</th>\n",
              "      <th>city</th>\n",
              "      <th>country</th>\n",
              "      <th>neutral</th>\n",
              "    </tr>\n",
              "  </thead>\n",
              "  <tbody>\n",
              "    <tr>\n",
              "      <th>40834</th>\n",
              "      <td>2019-07-18</td>\n",
              "      <td>American Samoa</td>\n",
              "      <td>Tahiti</td>\n",
              "      <td>8</td>\n",
              "      <td>1</td>\n",
              "      <td>Pacific Games</td>\n",
              "      <td>Apia</td>\n",
              "      <td>Samoa</td>\n",
              "      <td>True</td>\n",
              "    </tr>\n",
              "    <tr>\n",
              "      <th>40835</th>\n",
              "      <td>2019-07-18</td>\n",
              "      <td>Fiji</td>\n",
              "      <td>Solomon Islands</td>\n",
              "      <td>4</td>\n",
              "      <td>4</td>\n",
              "      <td>Pacific Games</td>\n",
              "      <td>Apia</td>\n",
              "      <td>Samoa</td>\n",
              "      <td>True</td>\n",
              "    </tr>\n",
              "    <tr>\n",
              "      <th>40836</th>\n",
              "      <td>2019-07-19</td>\n",
              "      <td>Senegal</td>\n",
              "      <td>Algeria</td>\n",
              "      <td>0</td>\n",
              "      <td>1</td>\n",
              "      <td>African Cup of Nations</td>\n",
              "      <td>Cairo</td>\n",
              "      <td>Egypt</td>\n",
              "      <td>True</td>\n",
              "    </tr>\n",
              "    <tr>\n",
              "      <th>40837</th>\n",
              "      <td>2019-07-19</td>\n",
              "      <td>Tajikistan</td>\n",
              "      <td>North Korea</td>\n",
              "      <td>0</td>\n",
              "      <td>1</td>\n",
              "      <td>Intercontinental Cup</td>\n",
              "      <td>Ahmedabad</td>\n",
              "      <td>India</td>\n",
              "      <td>True</td>\n",
              "    </tr>\n",
              "    <tr>\n",
              "      <th>40838</th>\n",
              "      <td>2019-07-20</td>\n",
              "      <td>Papua New Guinea</td>\n",
              "      <td>Fiji</td>\n",
              "      <td>1</td>\n",
              "      <td>1</td>\n",
              "      <td>Pacific Games</td>\n",
              "      <td>Apia</td>\n",
              "      <td>Samoa</td>\n",
              "      <td>True</td>\n",
              "    </tr>\n",
              "  </tbody>\n",
              "</table>\n",
              "</div>"
            ],
            "text/plain": [
              "             date         home_team  ... country  neutral\n",
              "40834  2019-07-18    American Samoa  ...   Samoa     True\n",
              "40835  2019-07-18              Fiji  ...   Samoa     True\n",
              "40836  2019-07-19           Senegal  ...   Egypt     True\n",
              "40837  2019-07-19        Tajikistan  ...   India     True\n",
              "40838  2019-07-20  Papua New Guinea  ...   Samoa     True\n",
              "\n",
              "[5 rows x 9 columns]"
            ]
          },
          "metadata": {
            "tags": []
          },
          "execution_count": 5
        }
      ]
    },
    {
      "cell_type": "markdown",
      "metadata": {
        "id": "OI3P3YnHUEBk"
      },
      "source": [
        "## 3. Checking the Datasets"
      ]
    },
    {
      "cell_type": "code",
      "metadata": {
        "id": "YjSVNwgptHxY",
        "colab": {
          "base_uri": "https://localhost:8080/"
        },
        "outputId": "310f1d11-7e2d-40d2-da9d-306e5f568ad2"
      },
      "source": [
        "# Determining the no. of records in our dataset\n",
        "#\n",
        "print(\"Fifa Rankings:\", ranking.shape)\n",
        "print(\"Results: \", results.shape)\n"
      ],
      "execution_count": 6,
      "outputs": [
        {
          "output_type": "stream",
          "name": "stdout",
          "text": [
            "Fifa Rankings: (57793, 16)\n",
            "Results:  (40839, 9)\n"
          ]
        }
      ]
    },
    {
      "cell_type": "code",
      "metadata": {
        "id": "n8-dW4sQWzbc",
        "colab": {
          "base_uri": "https://localhost:8080/"
        },
        "outputId": "4705b7a5-18c9-4c7f-9f09-5f79f9786fa0"
      },
      "source": [
        "# Checking whether each column has an appropriate datatype\n",
        "\n",
        "print(\"Datatypes for ranking dataset: \")\n",
        "print(ranking.dtypes)\n",
        "print(\"*****************\")\n",
        "print(\"Datatypes for results dataset: \")\n",
        "print(results.dtypes)\n"
      ],
      "execution_count": 8,
      "outputs": [
        {
          "output_type": "stream",
          "name": "stdout",
          "text": [
            "Datatypes for ranking dataset: \n",
            "rank                         int64\n",
            "country_full                object\n",
            "country_abrv                object\n",
            "total_points               float64\n",
            "previous_points              int64\n",
            "rank_change                  int64\n",
            "cur_year_avg               float64\n",
            "cur_year_avg_weighted      float64\n",
            "last_year_avg              float64\n",
            "last_year_avg_weighted     float64\n",
            "two_year_ago_avg           float64\n",
            "two_year_ago_weighted      float64\n",
            "three_year_ago_avg         float64\n",
            "three_year_ago_weighted    float64\n",
            "confederation               object\n",
            "rank_date                   object\n",
            "dtype: object\n",
            "*****************\n",
            "Datatypes for results dataset: \n",
            "date          object\n",
            "home_team     object\n",
            "away_team     object\n",
            "home_score     int64\n",
            "away_score     int64\n",
            "tournament    object\n",
            "city          object\n",
            "country       object\n",
            "neutral         bool\n",
            "dtype: object\n"
          ]
        }
      ]
    },
    {
      "cell_type": "markdown",
      "metadata": {
        "id": "FlBMxEDBUc9B"
      },
      "source": [
        "## 4. Tidying the Dataset"
      ]
    },
    {
      "cell_type": "code",
      "metadata": {
        "id": "O3gYMIr5tgjW"
      },
      "source": [
        "#First, we change the columns containing dates from the datatype object\n",
        "#to datetime in both datasets\n",
        "ranking['rank_date'] = pd.to_datetime(ranking['rank_date'])\n",
        "results['date'] = pd.to_datetime(results['date'])"
      ],
      "execution_count": 9,
      "outputs": []
    },
    {
      "cell_type": "code",
      "metadata": {
        "id": "58nZqcoTuIk2",
        "colab": {
          "base_uri": "https://localhost:8080/"
        },
        "outputId": "d4e21a57-cf57-47fe-a0b7-c992c18ff50f"
      },
      "source": [
        "#Checking for null values\n",
        "results.isnull().sum()"
      ],
      "execution_count": 10,
      "outputs": [
        {
          "output_type": "execute_result",
          "data": {
            "text/plain": [
              "date          0\n",
              "home_team     0\n",
              "away_team     0\n",
              "home_score    0\n",
              "away_score    0\n",
              "tournament    0\n",
              "city          0\n",
              "country       0\n",
              "neutral       0\n",
              "dtype: int64"
            ]
          },
          "metadata": {},
          "execution_count": 10
        }
      ]
    },
    {
      "cell_type": "markdown",
      "metadata": {
        "id": "a_8eRtzGjKRk"
      },
      "source": [
        "* There are no null values in the results dataset. "
      ]
    },
    {
      "cell_type": "code",
      "metadata": {
        "id": "NNKhjzvQxSfr",
        "colab": {
          "base_uri": "https://localhost:8080/"
        },
        "outputId": "2ace2dea-4981-4fff-95b9-8bce71821500"
      },
      "source": [
        "ranking.isnull().sum()"
      ],
      "execution_count": 11,
      "outputs": [
        {
          "output_type": "execute_result",
          "data": {
            "text/plain": [
              "rank                       0\n",
              "country_full               0\n",
              "country_abrv               0\n",
              "total_points               0\n",
              "previous_points            0\n",
              "rank_change                0\n",
              "cur_year_avg               0\n",
              "cur_year_avg_weighted      0\n",
              "last_year_avg              0\n",
              "last_year_avg_weighted     0\n",
              "two_year_ago_avg           0\n",
              "two_year_ago_weighted      0\n",
              "three_year_ago_avg         0\n",
              "three_year_ago_weighted    0\n",
              "confederation              0\n",
              "rank_date                  0\n",
              "dtype: int64"
            ]
          },
          "metadata": {},
          "execution_count": 11
        }
      ]
    },
    {
      "cell_type": "markdown",
      "metadata": {
        "id": "PFfZjclojSZB"
      },
      "source": [
        "* There are no null values in the fifa rankings dataset."
      ]
    },
    {
      "cell_type": "code",
      "metadata": {
        "id": "N3ss1xgyiHwr",
        "colab": {
          "base_uri": "https://localhost:8080/",
          "height": 112
        },
        "outputId": "c2f19cf2-7ee3-46e8-ebc8-903e68647696"
      },
      "source": [
        "#Dropping columns that will not be used\n",
        "\n",
        "rankings = ranking.loc[:,['rank', 'country_full', 'country_abrv', 'cur_year_avg_weighted',\n",
        "                          'rank_date','two_year_ago_weighted', 'three_year_ago_weighted']] \n",
        "rankings.head(2)                         "
      ],
      "execution_count": 16,
      "outputs": [
        {
          "output_type": "execute_result",
          "data": {
            "text/html": [
              "<div>\n",
              "<style scoped>\n",
              "    .dataframe tbody tr th:only-of-type {\n",
              "        vertical-align: middle;\n",
              "    }\n",
              "\n",
              "    .dataframe tbody tr th {\n",
              "        vertical-align: top;\n",
              "    }\n",
              "\n",
              "    .dataframe thead th {\n",
              "        text-align: right;\n",
              "    }\n",
              "</style>\n",
              "<table border=\"1\" class=\"dataframe\">\n",
              "  <thead>\n",
              "    <tr style=\"text-align: right;\">\n",
              "      <th></th>\n",
              "      <th>rank</th>\n",
              "      <th>country_full</th>\n",
              "      <th>country_abrv</th>\n",
              "      <th>cur_year_avg_weighted</th>\n",
              "      <th>rank_date</th>\n",
              "      <th>two_year_ago_weighted</th>\n",
              "      <th>three_year_ago_weighted</th>\n",
              "    </tr>\n",
              "  </thead>\n",
              "  <tbody>\n",
              "    <tr>\n",
              "      <th>0</th>\n",
              "      <td>1</td>\n",
              "      <td>Germany</td>\n",
              "      <td>GER</td>\n",
              "      <td>0.0</td>\n",
              "      <td>1993-08-08</td>\n",
              "      <td>0.0</td>\n",
              "      <td>0.0</td>\n",
              "    </tr>\n",
              "    <tr>\n",
              "      <th>1</th>\n",
              "      <td>2</td>\n",
              "      <td>Italy</td>\n",
              "      <td>ITA</td>\n",
              "      <td>0.0</td>\n",
              "      <td>1993-08-08</td>\n",
              "      <td>0.0</td>\n",
              "      <td>0.0</td>\n",
              "    </tr>\n",
              "  </tbody>\n",
              "</table>\n",
              "</div>"
            ],
            "text/plain": [
              "   rank country_full  ... two_year_ago_weighted  three_year_ago_weighted\n",
              "0     1      Germany  ...                   0.0                      0.0\n",
              "1     2        Italy  ...                   0.0                      0.0\n",
              "\n",
              "[2 rows x 7 columns]"
            ]
          },
          "metadata": {},
          "execution_count": 16
        }
      ]
    },
    {
      "cell_type": "code",
      "metadata": {
        "id": "tIVMr5z2oKQV",
        "colab": {
          "base_uri": "https://localhost:8080/",
          "height": 166
        },
        "outputId": "33cd05be-8ee9-4ec8-b9d9-dd6e8e47a77e"
      },
      "source": [
        "#Calculating the weighted points\n",
        "rankings['total_weighted'] =  rankings['cur_year_avg_weighted'] + rankings['two_year_ago_weighted'] + rankings['three_year_ago_weighted']\n",
        "rankings.head(2)"
      ],
      "execution_count": 18,
      "outputs": [
        {
          "output_type": "execute_result",
          "data": {
            "text/html": [
              "<div>\n",
              "<style scoped>\n",
              "    .dataframe tbody tr th:only-of-type {\n",
              "        vertical-align: middle;\n",
              "    }\n",
              "\n",
              "    .dataframe tbody tr th {\n",
              "        vertical-align: top;\n",
              "    }\n",
              "\n",
              "    .dataframe thead th {\n",
              "        text-align: right;\n",
              "    }\n",
              "</style>\n",
              "<table border=\"1\" class=\"dataframe\">\n",
              "  <thead>\n",
              "    <tr style=\"text-align: right;\">\n",
              "      <th></th>\n",
              "      <th>rank</th>\n",
              "      <th>country_full</th>\n",
              "      <th>country_abrv</th>\n",
              "      <th>cur_year_avg_weighted</th>\n",
              "      <th>rank_date</th>\n",
              "      <th>two_year_ago_weighted</th>\n",
              "      <th>three_year_ago_weighted</th>\n",
              "      <th>weighted_points</th>\n",
              "      <th>total_weighted</th>\n",
              "    </tr>\n",
              "  </thead>\n",
              "  <tbody>\n",
              "    <tr>\n",
              "      <th>0</th>\n",
              "      <td>1</td>\n",
              "      <td>Germany</td>\n",
              "      <td>GER</td>\n",
              "      <td>0.0</td>\n",
              "      <td>1993-08-08</td>\n",
              "      <td>0.0</td>\n",
              "      <td>0.0</td>\n",
              "      <td>0.0</td>\n",
              "      <td>0.0</td>\n",
              "    </tr>\n",
              "    <tr>\n",
              "      <th>1</th>\n",
              "      <td>2</td>\n",
              "      <td>Italy</td>\n",
              "      <td>ITA</td>\n",
              "      <td>0.0</td>\n",
              "      <td>1993-08-08</td>\n",
              "      <td>0.0</td>\n",
              "      <td>0.0</td>\n",
              "      <td>0.0</td>\n",
              "      <td>0.0</td>\n",
              "    </tr>\n",
              "  </tbody>\n",
              "</table>\n",
              "</div>"
            ],
            "text/plain": [
              "   rank country_full  ... weighted_points  total_weighted\n",
              "0     1      Germany  ...             0.0             0.0\n",
              "1     2        Italy  ...             0.0             0.0\n",
              "\n",
              "[2 rows x 9 columns]"
            ]
          },
          "metadata": {},
          "execution_count": 18
        }
      ]
    },
    {
      "cell_type": "code",
      "metadata": {
        "id": "Yzo6X4I_sde2"
      },
      "source": [
        ""
      ],
      "execution_count": null,
      "outputs": []
    },
    {
      "cell_type": "markdown",
      "metadata": {
        "id": "MD5Ia6dvjGEq"
      },
      "source": [
        "* Rankings points on the fifa ranking dataset started from 21/09/2011, we will threfore use data from 21/09/2011 onwards for this analysis"
      ]
    },
    {
      "cell_type": "code",
      "metadata": {
        "id": "LODEx8OPjFd7",
        "colab": {
          "base_uri": "https://localhost:8080/"
        },
        "outputId": "94e5f81a-c4b0-49ac-b81c-ca447ced7f0b"
      },
      "source": [
        "##Obtaining the matches to involve according to their date of occurence \n",
        "\n",
        "rankings_df = rankings[rankings['rank_date'] > '2011-08-24']\n",
        "results_df = results[results['date'] > '2011-08-24']\n",
        "print(\"Rankings DF: \", rankings_df.shape)\n",
        "print(\"Results DF: \", results_df.shape)"
      ],
      "execution_count": 19,
      "outputs": [
        {
          "output_type": "stream",
          "name": "stdout",
          "text": [
            "Shape of rankings_df:  (17208, 9)\n",
            "Shape of results_df:  (7558, 9)\n"
          ]
        }
      ]
    },
    {
      "cell_type": "code",
      "metadata": {
        "id": "mPU-I_ent_vc",
        "colab": {
          "base_uri": "https://localhost:8080/",
          "height": 417
        },
        "outputId": "d965066b-4f73-4a08-d2c7-12ccb3f97d8b"
      },
      "source": [
        "# Changing the datatype of the columns containing dates to year\n",
        "import datetime\n",
        "\n",
        "rankings_df['year'] = rankings_df['rank_date'].dt.year\n",
        "rankings_df.tail()\n"
      ],
      "execution_count": 20,
      "outputs": [
        {
          "output_type": "stream",
          "name": "stderr",
          "text": [
            "/usr/local/lib/python3.7/dist-packages/ipykernel_launcher.py:4: SettingWithCopyWarning: \n",
            "A value is trying to be set on a copy of a slice from a DataFrame.\n",
            "Try using .loc[row_indexer,col_indexer] = value instead\n",
            "\n",
            "See the caveats in the documentation: https://pandas.pydata.org/pandas-docs/stable/user_guide/indexing.html#returning-a-view-versus-a-copy\n",
            "  after removing the cwd from sys.path.\n"
          ]
        },
        {
          "output_type": "execute_result",
          "data": {
            "text/html": [
              "<div>\n",
              "<style scoped>\n",
              "    .dataframe tbody tr th:only-of-type {\n",
              "        vertical-align: middle;\n",
              "    }\n",
              "\n",
              "    .dataframe tbody tr th {\n",
              "        vertical-align: top;\n",
              "    }\n",
              "\n",
              "    .dataframe thead th {\n",
              "        text-align: right;\n",
              "    }\n",
              "</style>\n",
              "<table border=\"1\" class=\"dataframe\">\n",
              "  <thead>\n",
              "    <tr style=\"text-align: right;\">\n",
              "      <th></th>\n",
              "      <th>rank</th>\n",
              "      <th>country_full</th>\n",
              "      <th>country_abrv</th>\n",
              "      <th>cur_year_avg_weighted</th>\n",
              "      <th>rank_date</th>\n",
              "      <th>two_year_ago_weighted</th>\n",
              "      <th>three_year_ago_weighted</th>\n",
              "      <th>weighted_points</th>\n",
              "      <th>total_weighted</th>\n",
              "      <th>year</th>\n",
              "    </tr>\n",
              "  </thead>\n",
              "  <tbody>\n",
              "    <tr>\n",
              "      <th>57788</th>\n",
              "      <td>206</td>\n",
              "      <td>Anguilla</td>\n",
              "      <td>AIA</td>\n",
              "      <td>0.0</td>\n",
              "      <td>2018-06-07</td>\n",
              "      <td>0.0</td>\n",
              "      <td>0.0</td>\n",
              "      <td>0.0</td>\n",
              "      <td>0.0</td>\n",
              "      <td>2018</td>\n",
              "    </tr>\n",
              "    <tr>\n",
              "      <th>57789</th>\n",
              "      <td>206</td>\n",
              "      <td>Bahamas</td>\n",
              "      <td>BAH</td>\n",
              "      <td>0.0</td>\n",
              "      <td>2018-06-07</td>\n",
              "      <td>0.0</td>\n",
              "      <td>0.0</td>\n",
              "      <td>0.0</td>\n",
              "      <td>0.0</td>\n",
              "      <td>2018</td>\n",
              "    </tr>\n",
              "    <tr>\n",
              "      <th>57790</th>\n",
              "      <td>206</td>\n",
              "      <td>Eritrea</td>\n",
              "      <td>ERI</td>\n",
              "      <td>0.0</td>\n",
              "      <td>2018-06-07</td>\n",
              "      <td>0.0</td>\n",
              "      <td>0.0</td>\n",
              "      <td>0.0</td>\n",
              "      <td>0.0</td>\n",
              "      <td>2018</td>\n",
              "    </tr>\n",
              "    <tr>\n",
              "      <th>57791</th>\n",
              "      <td>206</td>\n",
              "      <td>Somalia</td>\n",
              "      <td>SOM</td>\n",
              "      <td>0.0</td>\n",
              "      <td>2018-06-07</td>\n",
              "      <td>0.0</td>\n",
              "      <td>0.0</td>\n",
              "      <td>0.0</td>\n",
              "      <td>0.0</td>\n",
              "      <td>2018</td>\n",
              "    </tr>\n",
              "    <tr>\n",
              "      <th>57792</th>\n",
              "      <td>206</td>\n",
              "      <td>Tonga</td>\n",
              "      <td>TGA</td>\n",
              "      <td>0.0</td>\n",
              "      <td>2018-06-07</td>\n",
              "      <td>0.0</td>\n",
              "      <td>0.0</td>\n",
              "      <td>0.0</td>\n",
              "      <td>0.0</td>\n",
              "      <td>2018</td>\n",
              "    </tr>\n",
              "  </tbody>\n",
              "</table>\n",
              "</div>"
            ],
            "text/plain": [
              "       rank country_full country_abrv  ...  weighted_points total_weighted  year\n",
              "57788   206     Anguilla          AIA  ...              0.0            0.0  2018\n",
              "57789   206      Bahamas          BAH  ...              0.0            0.0  2018\n",
              "57790   206      Eritrea          ERI  ...              0.0            0.0  2018\n",
              "57791   206      Somalia          SOM  ...              0.0            0.0  2018\n",
              "57792   206        Tonga          TGA  ...              0.0            0.0  2018\n",
              "\n",
              "[5 rows x 10 columns]"
            ]
          },
          "metadata": {},
          "execution_count": 20
        }
      ]
    },
    {
      "cell_type": "code",
      "metadata": {
        "id": "Xk3_Dgh_u3Uy",
        "colab": {
          "base_uri": "https://localhost:8080/",
          "height": 310
        },
        "outputId": "f13d2da1-f853-40b8-9738-8495eb01dd77"
      },
      "source": [
        "results_df['year'] = results_df['date'].dt.year\n",
        "results_df.head()"
      ],
      "execution_count": 21,
      "outputs": [
        {
          "output_type": "stream",
          "name": "stderr",
          "text": [
            "/usr/local/lib/python3.7/dist-packages/ipykernel_launcher.py:1: SettingWithCopyWarning: \n",
            "A value is trying to be set on a copy of a slice from a DataFrame.\n",
            "Try using .loc[row_indexer,col_indexer] = value instead\n",
            "\n",
            "See the caveats in the documentation: https://pandas.pydata.org/pandas-docs/stable/user_guide/indexing.html#returning-a-view-versus-a-copy\n",
            "  \"\"\"Entry point for launching an IPython kernel.\n"
          ]
        },
        {
          "output_type": "execute_result",
          "data": {
            "text/html": [
              "<div>\n",
              "<style scoped>\n",
              "    .dataframe tbody tr th:only-of-type {\n",
              "        vertical-align: middle;\n",
              "    }\n",
              "\n",
              "    .dataframe tbody tr th {\n",
              "        vertical-align: top;\n",
              "    }\n",
              "\n",
              "    .dataframe thead th {\n",
              "        text-align: right;\n",
              "    }\n",
              "</style>\n",
              "<table border=\"1\" class=\"dataframe\">\n",
              "  <thead>\n",
              "    <tr style=\"text-align: right;\">\n",
              "      <th></th>\n",
              "      <th>date</th>\n",
              "      <th>home_team</th>\n",
              "      <th>away_team</th>\n",
              "      <th>home_score</th>\n",
              "      <th>away_score</th>\n",
              "      <th>tournament</th>\n",
              "      <th>city</th>\n",
              "      <th>country</th>\n",
              "      <th>neutral</th>\n",
              "      <th>year</th>\n",
              "    </tr>\n",
              "  </thead>\n",
              "  <tbody>\n",
              "    <tr>\n",
              "      <th>33281</th>\n",
              "      <td>2011-08-25</td>\n",
              "      <td>United Arab Emirates</td>\n",
              "      <td>Qatar</td>\n",
              "      <td>3</td>\n",
              "      <td>1</td>\n",
              "      <td>Friendly</td>\n",
              "      <td>al-Ain</td>\n",
              "      <td>United Arab Emirates</td>\n",
              "      <td>False</td>\n",
              "      <td>2011</td>\n",
              "    </tr>\n",
              "    <tr>\n",
              "      <th>33282</th>\n",
              "      <td>2011-08-26</td>\n",
              "      <td>Bahrain</td>\n",
              "      <td>Sudan</td>\n",
              "      <td>1</td>\n",
              "      <td>0</td>\n",
              "      <td>Friendly</td>\n",
              "      <td>Riffa</td>\n",
              "      <td>Bahrain</td>\n",
              "      <td>False</td>\n",
              "      <td>2011</td>\n",
              "    </tr>\n",
              "    <tr>\n",
              "      <th>33283</th>\n",
              "      <td>2011-08-27</td>\n",
              "      <td>Angola</td>\n",
              "      <td>DR Congo</td>\n",
              "      <td>1</td>\n",
              "      <td>2</td>\n",
              "      <td>Friendly</td>\n",
              "      <td>Dundo</td>\n",
              "      <td>Angola</td>\n",
              "      <td>False</td>\n",
              "      <td>2011</td>\n",
              "    </tr>\n",
              "    <tr>\n",
              "      <th>33284</th>\n",
              "      <td>2011-08-27</td>\n",
              "      <td>Fiji</td>\n",
              "      <td>Tahiti</td>\n",
              "      <td>3</td>\n",
              "      <td>0</td>\n",
              "      <td>Pacific Games</td>\n",
              "      <td>Boulari</td>\n",
              "      <td>New Caledonia</td>\n",
              "      <td>True</td>\n",
              "      <td>2011</td>\n",
              "    </tr>\n",
              "    <tr>\n",
              "      <th>33285</th>\n",
              "      <td>2011-08-27</td>\n",
              "      <td>Jordan</td>\n",
              "      <td>Indonesia</td>\n",
              "      <td>1</td>\n",
              "      <td>0</td>\n",
              "      <td>Friendly</td>\n",
              "      <td>Amman</td>\n",
              "      <td>Jordan</td>\n",
              "      <td>False</td>\n",
              "      <td>2011</td>\n",
              "    </tr>\n",
              "  </tbody>\n",
              "</table>\n",
              "</div>"
            ],
            "text/plain": [
              "            date             home_team  ... neutral  year\n",
              "33281 2011-08-25  United Arab Emirates  ...   False  2011\n",
              "33282 2011-08-26               Bahrain  ...   False  2011\n",
              "33283 2011-08-27                Angola  ...   False  2011\n",
              "33284 2011-08-27                  Fiji  ...    True  2011\n",
              "33285 2011-08-27                Jordan  ...   False  2011\n",
              "\n",
              "[5 rows x 10 columns]"
            ]
          },
          "metadata": {},
          "execution_count": 21
        }
      ]
    },
    {
      "cell_type": "markdown",
      "metadata": {
        "id": "n4-tacGjvGvT"
      },
      "source": [
        "There is a disparity in the dates between the two datasets. We will therefore drop the data for year 2019 in the results dataframe.\n",
        "\n"
      ]
    },
    {
      "cell_type": "code",
      "metadata": {
        "id": "7ElDxDx_v4MP",
        "colab": {
          "base_uri": "https://localhost:8080/",
          "height": 306
        },
        "outputId": "a0a3f8d2-354a-4783-9c23-413827920823"
      },
      "source": [
        "## Displaying the info of the results dataframe\n",
        "results_df.info()"
      ],
      "execution_count": null,
      "outputs": [
        {
          "output_type": "stream",
          "text": [
            "<class 'pandas.core.frame.DataFrame'>\n",
            "Int64Index: 7558 entries, 33281 to 40838\n",
            "Data columns (total 10 columns):\n",
            " #   Column      Non-Null Count  Dtype         \n",
            "---  ------      --------------  -----         \n",
            " 0   date        7558 non-null   datetime64[ns]\n",
            " 1   home_team   7558 non-null   object        \n",
            " 2   away_team   7558 non-null   object        \n",
            " 3   home_score  7558 non-null   int64         \n",
            " 4   away_score  7558 non-null   int64         \n",
            " 5   tournament  7558 non-null   object        \n",
            " 6   city        7558 non-null   object        \n",
            " 7   country     7558 non-null   object        \n",
            " 8   neutral     7558 non-null   bool          \n",
            " 9   year        7558 non-null   int64         \n",
            "dtypes: bool(1), datetime64[ns](1), int64(3), object(5)\n",
            "memory usage: 597.8+ KB\n"
          ],
          "name": "stdout"
        }
      ]
    },
    {
      "cell_type": "code",
      "metadata": {
        "id": "Lxx8GuXDvGE_",
        "colab": {
          "base_uri": "https://localhost:8080/",
          "height": 204
        },
        "outputId": "403694b9-5754-4e63-94e1-47224bb7894b"
      },
      "source": [
        "## Incorporating data below year 2019\n",
        "\n",
        "results_df = results_df[results_df['year'] < 2019]\n",
        "results_df.tail()"
      ],
      "execution_count": null,
      "outputs": [
        {
          "output_type": "execute_result",
          "data": {
            "text/html": [
              "<div>\n",
              "<style scoped>\n",
              "    .dataframe tbody tr th:only-of-type {\n",
              "        vertical-align: middle;\n",
              "    }\n",
              "\n",
              "    .dataframe tbody tr th {\n",
              "        vertical-align: top;\n",
              "    }\n",
              "\n",
              "    .dataframe thead th {\n",
              "        text-align: right;\n",
              "    }\n",
              "</style>\n",
              "<table border=\"1\" class=\"dataframe\">\n",
              "  <thead>\n",
              "    <tr style=\"text-align: right;\">\n",
              "      <th></th>\n",
              "      <th>date</th>\n",
              "      <th>home_team</th>\n",
              "      <th>away_team</th>\n",
              "      <th>home_score</th>\n",
              "      <th>away_score</th>\n",
              "      <th>tournament</th>\n",
              "      <th>city</th>\n",
              "      <th>country</th>\n",
              "      <th>neutral</th>\n",
              "      <th>year</th>\n",
              "    </tr>\n",
              "  </thead>\n",
              "  <tbody>\n",
              "    <tr>\n",
              "      <th>40346</th>\n",
              "      <td>2018-12-30</td>\n",
              "      <td>Yemen</td>\n",
              "      <td>Syria</td>\n",
              "      <td>0</td>\n",
              "      <td>1</td>\n",
              "      <td>Friendly</td>\n",
              "      <td>Abu Dhabi</td>\n",
              "      <td>United Arab Emirates</td>\n",
              "      <td>True</td>\n",
              "      <td>2018</td>\n",
              "    </tr>\n",
              "    <tr>\n",
              "      <th>40347</th>\n",
              "      <td>2018-12-31</td>\n",
              "      <td>South Korea</td>\n",
              "      <td>Saudi Arabia</td>\n",
              "      <td>0</td>\n",
              "      <td>0</td>\n",
              "      <td>Friendly</td>\n",
              "      <td>Abu Dhabi</td>\n",
              "      <td>United Arab Emirates</td>\n",
              "      <td>True</td>\n",
              "      <td>2018</td>\n",
              "    </tr>\n",
              "    <tr>\n",
              "      <th>40348</th>\n",
              "      <td>2018-12-31</td>\n",
              "      <td>Kyrgyzstan</td>\n",
              "      <td>Palestine</td>\n",
              "      <td>2</td>\n",
              "      <td>1</td>\n",
              "      <td>Friendly</td>\n",
              "      <td>Doha</td>\n",
              "      <td>Qatar</td>\n",
              "      <td>True</td>\n",
              "      <td>2018</td>\n",
              "    </tr>\n",
              "    <tr>\n",
              "      <th>40349</th>\n",
              "      <td>2018-12-31</td>\n",
              "      <td>Philippines</td>\n",
              "      <td>Vietnam</td>\n",
              "      <td>2</td>\n",
              "      <td>4</td>\n",
              "      <td>Friendly</td>\n",
              "      <td>Doha</td>\n",
              "      <td>Qatar</td>\n",
              "      <td>True</td>\n",
              "      <td>2018</td>\n",
              "    </tr>\n",
              "    <tr>\n",
              "      <th>40350</th>\n",
              "      <td>2018-12-31</td>\n",
              "      <td>Qatar</td>\n",
              "      <td>Iran</td>\n",
              "      <td>1</td>\n",
              "      <td>2</td>\n",
              "      <td>Friendly</td>\n",
              "      <td>Doha</td>\n",
              "      <td>Qatar</td>\n",
              "      <td>False</td>\n",
              "      <td>2018</td>\n",
              "    </tr>\n",
              "  </tbody>\n",
              "</table>\n",
              "</div>"
            ],
            "text/plain": [
              "            date    home_team  ... neutral  year\n",
              "40346 2018-12-30        Yemen  ...    True  2018\n",
              "40347 2018-12-31  South Korea  ...    True  2018\n",
              "40348 2018-12-31   Kyrgyzstan  ...    True  2018\n",
              "40349 2018-12-31  Philippines  ...    True  2018\n",
              "40350 2018-12-31        Qatar  ...   False  2018\n",
              "\n",
              "[5 rows x 10 columns]"
            ]
          },
          "metadata": {
            "tags": []
          },
          "execution_count": 27
        }
      ]
    },
    {
      "cell_type": "code",
      "metadata": {
        "id": "Y51xatO8xV12",
        "colab": {
          "base_uri": "https://localhost:8080/",
          "height": 143
        },
        "outputId": "daf1c1a4-b3c0-4a98-ab7a-511fde02cfde"
      },
      "source": [
        "# Dropping unnecessary columns\n",
        "rankings_data = rankings_df[['rank', 'country_full', 'weighted_points', 'year']]\n",
        "rankings_data = rankings_data.groupby(['year', 'country_full'], as_index=False).agg({'rank': 'mean', 'weighted_points': 'mean'})\n",
        "rankings_data.head(3)"
      ],
      "execution_count": 22,
      "outputs": [
        {
          "output_type": "execute_result",
          "data": {
            "text/html": [
              "<div>\n",
              "<style scoped>\n",
              "    .dataframe tbody tr th:only-of-type {\n",
              "        vertical-align: middle;\n",
              "    }\n",
              "\n",
              "    .dataframe tbody tr th {\n",
              "        vertical-align: top;\n",
              "    }\n",
              "\n",
              "    .dataframe thead th {\n",
              "        text-align: right;\n",
              "    }\n",
              "</style>\n",
              "<table border=\"1\" class=\"dataframe\">\n",
              "  <thead>\n",
              "    <tr style=\"text-align: right;\">\n",
              "      <th></th>\n",
              "      <th>year</th>\n",
              "      <th>country_full</th>\n",
              "      <th>rank</th>\n",
              "      <th>weighted_points</th>\n",
              "    </tr>\n",
              "  </thead>\n",
              "  <tbody>\n",
              "    <tr>\n",
              "      <th>0</th>\n",
              "      <td>2011</td>\n",
              "      <td>Afghanistan</td>\n",
              "      <td>180.50</td>\n",
              "      <td>75.3975</td>\n",
              "    </tr>\n",
              "    <tr>\n",
              "      <th>1</th>\n",
              "      <td>2011</td>\n",
              "      <td>Albania</td>\n",
              "      <td>72.75</td>\n",
              "      <td>302.0700</td>\n",
              "    </tr>\n",
              "    <tr>\n",
              "      <th>2</th>\n",
              "      <td>2011</td>\n",
              "      <td>Algeria</td>\n",
              "      <td>35.25</td>\n",
              "      <td>557.0125</td>\n",
              "    </tr>\n",
              "  </tbody>\n",
              "</table>\n",
              "</div>"
            ],
            "text/plain": [
              "   year country_full    rank  weighted_points\n",
              "0  2011  Afghanistan  180.50          75.3975\n",
              "1  2011      Albania   72.75         302.0700\n",
              "2  2011      Algeria   35.25         557.0125"
            ]
          },
          "metadata": {},
          "execution_count": 22
        }
      ]
    },
    {
      "cell_type": "code",
      "metadata": {
        "id": "nNJPfjJRxz8A",
        "colab": {
          "base_uri": "https://localhost:8080/",
          "height": 143
        },
        "outputId": "285ce6b0-ca5f-4478-edd2-e57757dfb3e7"
      },
      "source": [
        "# Dropping columns for results dataset\n",
        "results_data = results_df[['home_team', 'away_team', 'home_score', 'away_score',\n",
        "       'tournament', 'country', 'year']]\n",
        "results_data.reset_index(drop=True, inplace=False).head(3)      "
      ],
      "execution_count": 24,
      "outputs": [
        {
          "output_type": "execute_result",
          "data": {
            "text/html": [
              "<div>\n",
              "<style scoped>\n",
              "    .dataframe tbody tr th:only-of-type {\n",
              "        vertical-align: middle;\n",
              "    }\n",
              "\n",
              "    .dataframe tbody tr th {\n",
              "        vertical-align: top;\n",
              "    }\n",
              "\n",
              "    .dataframe thead th {\n",
              "        text-align: right;\n",
              "    }\n",
              "</style>\n",
              "<table border=\"1\" class=\"dataframe\">\n",
              "  <thead>\n",
              "    <tr style=\"text-align: right;\">\n",
              "      <th></th>\n",
              "      <th>home_team</th>\n",
              "      <th>away_team</th>\n",
              "      <th>home_score</th>\n",
              "      <th>away_score</th>\n",
              "      <th>tournament</th>\n",
              "      <th>country</th>\n",
              "      <th>year</th>\n",
              "    </tr>\n",
              "  </thead>\n",
              "  <tbody>\n",
              "    <tr>\n",
              "      <th>0</th>\n",
              "      <td>United Arab Emirates</td>\n",
              "      <td>Qatar</td>\n",
              "      <td>3</td>\n",
              "      <td>1</td>\n",
              "      <td>Friendly</td>\n",
              "      <td>United Arab Emirates</td>\n",
              "      <td>2011</td>\n",
              "    </tr>\n",
              "    <tr>\n",
              "      <th>1</th>\n",
              "      <td>Bahrain</td>\n",
              "      <td>Sudan</td>\n",
              "      <td>1</td>\n",
              "      <td>0</td>\n",
              "      <td>Friendly</td>\n",
              "      <td>Bahrain</td>\n",
              "      <td>2011</td>\n",
              "    </tr>\n",
              "    <tr>\n",
              "      <th>2</th>\n",
              "      <td>Angola</td>\n",
              "      <td>DR Congo</td>\n",
              "      <td>1</td>\n",
              "      <td>2</td>\n",
              "      <td>Friendly</td>\n",
              "      <td>Angola</td>\n",
              "      <td>2011</td>\n",
              "    </tr>\n",
              "  </tbody>\n",
              "</table>\n",
              "</div>"
            ],
            "text/plain": [
              "              home_team away_team  ...               country  year\n",
              "0  United Arab Emirates     Qatar  ...  United Arab Emirates  2011\n",
              "1               Bahrain     Sudan  ...               Bahrain  2011\n",
              "2                Angola  DR Congo  ...                Angola  2011\n",
              "\n",
              "[3 rows x 7 columns]"
            ]
          },
          "metadata": {},
          "execution_count": 24
        }
      ]
    },
    {
      "cell_type": "code",
      "metadata": {
        "id": "oxsIb-fz0ugF",
        "colab": {
          "base_uri": "https://localhost:8080/",
          "height": 206
        },
        "outputId": "a83001cd-1608-4eaa-af7c-8417e8117a77"
      },
      "source": [
        "## Merging the two datasets\n",
        "df = results_data.merge(rankings_data, left_on=['home_team', 'year'], right_on=['country_full', 'year'], how='inner')\n",
        "df = df.merge(rankings_data, left_on=['away_team', 'year'], right_on=['country_full', 'year'], how='inner')\n",
        "df.drop(['country', 'year', 'country_full_x', 'country_full_y'], axis=1, inplace=True)\n",
        "df.head()"
      ],
      "execution_count": 32,
      "outputs": [
        {
          "output_type": "execute_result",
          "data": {
            "text/html": [
              "<div>\n",
              "<style scoped>\n",
              "    .dataframe tbody tr th:only-of-type {\n",
              "        vertical-align: middle;\n",
              "    }\n",
              "\n",
              "    .dataframe tbody tr th {\n",
              "        vertical-align: top;\n",
              "    }\n",
              "\n",
              "    .dataframe thead th {\n",
              "        text-align: right;\n",
              "    }\n",
              "</style>\n",
              "<table border=\"1\" class=\"dataframe\">\n",
              "  <thead>\n",
              "    <tr style=\"text-align: right;\">\n",
              "      <th></th>\n",
              "      <th>home_team</th>\n",
              "      <th>away_team</th>\n",
              "      <th>home_score</th>\n",
              "      <th>away_score</th>\n",
              "      <th>tournament</th>\n",
              "      <th>rank_x</th>\n",
              "      <th>weighted_points_x</th>\n",
              "      <th>rank_y</th>\n",
              "      <th>weighted_points_y</th>\n",
              "    </tr>\n",
              "  </thead>\n",
              "  <tbody>\n",
              "    <tr>\n",
              "      <th>0</th>\n",
              "      <td>United Arab Emirates</td>\n",
              "      <td>Qatar</td>\n",
              "      <td>3</td>\n",
              "      <td>1</td>\n",
              "      <td>Friendly</td>\n",
              "      <td>118.75</td>\n",
              "      <td>161.6250</td>\n",
              "      <td>95.0</td>\n",
              "      <td>311.495</td>\n",
              "    </tr>\n",
              "    <tr>\n",
              "      <th>1</th>\n",
              "      <td>Bahrain</td>\n",
              "      <td>Qatar</td>\n",
              "      <td>0</td>\n",
              "      <td>0</td>\n",
              "      <td>FIFA World Cup qualification</td>\n",
              "      <td>101.50</td>\n",
              "      <td>282.6375</td>\n",
              "      <td>95.0</td>\n",
              "      <td>311.495</td>\n",
              "    </tr>\n",
              "    <tr>\n",
              "      <th>2</th>\n",
              "      <td>Indonesia</td>\n",
              "      <td>Qatar</td>\n",
              "      <td>2</td>\n",
              "      <td>3</td>\n",
              "      <td>FIFA World Cup qualification</td>\n",
              "      <td>141.25</td>\n",
              "      <td>151.8750</td>\n",
              "      <td>95.0</td>\n",
              "      <td>311.495</td>\n",
              "    </tr>\n",
              "    <tr>\n",
              "      <th>3</th>\n",
              "      <td>United Arab Emirates</td>\n",
              "      <td>Kuwait</td>\n",
              "      <td>2</td>\n",
              "      <td>3</td>\n",
              "      <td>FIFA World Cup qualification</td>\n",
              "      <td>118.75</td>\n",
              "      <td>161.6250</td>\n",
              "      <td>98.5</td>\n",
              "      <td>255.315</td>\n",
              "    </tr>\n",
              "    <tr>\n",
              "      <th>4</th>\n",
              "      <td>Oman</td>\n",
              "      <td>Kuwait</td>\n",
              "      <td>1</td>\n",
              "      <td>0</td>\n",
              "      <td>Friendly</td>\n",
              "      <td>96.50</td>\n",
              "      <td>289.5250</td>\n",
              "      <td>98.5</td>\n",
              "      <td>255.315</td>\n",
              "    </tr>\n",
              "  </tbody>\n",
              "</table>\n",
              "</div>"
            ],
            "text/plain": [
              "              home_team away_team  ...  rank_y  weighted_points_y\n",
              "0  United Arab Emirates     Qatar  ...    95.0            311.495\n",
              "1               Bahrain     Qatar  ...    95.0            311.495\n",
              "2             Indonesia     Qatar  ...    95.0            311.495\n",
              "3  United Arab Emirates    Kuwait  ...    98.5            255.315\n",
              "4                  Oman    Kuwait  ...    98.5            255.315\n",
              "\n",
              "[5 rows x 9 columns]"
            ]
          },
          "metadata": {},
          "execution_count": 32
        }
      ]
    },
    {
      "cell_type": "code",
      "metadata": {
        "id": "ZeLseQKW1iKc",
        "colab": {
          "base_uri": "https://localhost:8080/",
          "height": 365
        },
        "outputId": "264605d1-f05f-42cc-9c6e-c20655ab4618"
      },
      "source": [
        "#Changing column names\n",
        "df.rename(columns={'rank_x':'home_team_rank',\n",
        "                     'rank_y':'away_team_rank',\n",
        "                     'weighted_points_x':'home_team_weighted_points',\n",
        "                     'weighted_points_y':'away_team_weighted_points'}, \n",
        "                 inplace=True)\n",
        " \n",
        "df.head()"
      ],
      "execution_count": 33,
      "outputs": [
        {
          "output_type": "execute_result",
          "data": {
            "text/html": [
              "<div>\n",
              "<style scoped>\n",
              "    .dataframe tbody tr th:only-of-type {\n",
              "        vertical-align: middle;\n",
              "    }\n",
              "\n",
              "    .dataframe tbody tr th {\n",
              "        vertical-align: top;\n",
              "    }\n",
              "\n",
              "    .dataframe thead th {\n",
              "        text-align: right;\n",
              "    }\n",
              "</style>\n",
              "<table border=\"1\" class=\"dataframe\">\n",
              "  <thead>\n",
              "    <tr style=\"text-align: right;\">\n",
              "      <th></th>\n",
              "      <th>home_team</th>\n",
              "      <th>away_team</th>\n",
              "      <th>home_score</th>\n",
              "      <th>away_score</th>\n",
              "      <th>tournament</th>\n",
              "      <th>home_team_rank</th>\n",
              "      <th>home_team_weighted_points</th>\n",
              "      <th>away_team_rank</th>\n",
              "      <th>away_team_weighted_points</th>\n",
              "    </tr>\n",
              "  </thead>\n",
              "  <tbody>\n",
              "    <tr>\n",
              "      <th>0</th>\n",
              "      <td>United Arab Emirates</td>\n",
              "      <td>Qatar</td>\n",
              "      <td>3</td>\n",
              "      <td>1</td>\n",
              "      <td>Friendly</td>\n",
              "      <td>118.75</td>\n",
              "      <td>161.6250</td>\n",
              "      <td>95.0</td>\n",
              "      <td>311.495</td>\n",
              "    </tr>\n",
              "    <tr>\n",
              "      <th>1</th>\n",
              "      <td>Bahrain</td>\n",
              "      <td>Qatar</td>\n",
              "      <td>0</td>\n",
              "      <td>0</td>\n",
              "      <td>FIFA World Cup qualification</td>\n",
              "      <td>101.50</td>\n",
              "      <td>282.6375</td>\n",
              "      <td>95.0</td>\n",
              "      <td>311.495</td>\n",
              "    </tr>\n",
              "    <tr>\n",
              "      <th>2</th>\n",
              "      <td>Indonesia</td>\n",
              "      <td>Qatar</td>\n",
              "      <td>2</td>\n",
              "      <td>3</td>\n",
              "      <td>FIFA World Cup qualification</td>\n",
              "      <td>141.25</td>\n",
              "      <td>151.8750</td>\n",
              "      <td>95.0</td>\n",
              "      <td>311.495</td>\n",
              "    </tr>\n",
              "    <tr>\n",
              "      <th>3</th>\n",
              "      <td>United Arab Emirates</td>\n",
              "      <td>Kuwait</td>\n",
              "      <td>2</td>\n",
              "      <td>3</td>\n",
              "      <td>FIFA World Cup qualification</td>\n",
              "      <td>118.75</td>\n",
              "      <td>161.6250</td>\n",
              "      <td>98.5</td>\n",
              "      <td>255.315</td>\n",
              "    </tr>\n",
              "    <tr>\n",
              "      <th>4</th>\n",
              "      <td>Oman</td>\n",
              "      <td>Kuwait</td>\n",
              "      <td>1</td>\n",
              "      <td>0</td>\n",
              "      <td>Friendly</td>\n",
              "      <td>96.50</td>\n",
              "      <td>289.5250</td>\n",
              "      <td>98.5</td>\n",
              "      <td>255.315</td>\n",
              "    </tr>\n",
              "  </tbody>\n",
              "</table>\n",
              "</div>"
            ],
            "text/plain": [
              "              home_team away_team  ...  away_team_rank  away_team_weighted_points\n",
              "0  United Arab Emirates     Qatar  ...            95.0                    311.495\n",
              "1               Bahrain     Qatar  ...            95.0                    311.495\n",
              "2             Indonesia     Qatar  ...            95.0                    311.495\n",
              "3  United Arab Emirates    Kuwait  ...            98.5                    255.315\n",
              "4                  Oman    Kuwait  ...            98.5                    255.315\n",
              "\n",
              "[5 rows x 9 columns]"
            ]
          },
          "metadata": {},
          "execution_count": 33
        }
      ]
    },
    {
      "cell_type": "code",
      "metadata": {
        "id": "YQPPlMp7PEQA",
        "colab": {
          "base_uri": "https://localhost:8080/"
        },
        "outputId": "062f2c42-7aa6-4777-b190-821074207c9f"
      },
      "source": [
        "df.info()"
      ],
      "execution_count": 34,
      "outputs": [
        {
          "output_type": "stream",
          "name": "stdout",
          "text": [
            "<class 'pandas.core.frame.DataFrame'>\n",
            "Int64Index: 5737 entries, 0 to 5736\n",
            "Data columns (total 9 columns):\n",
            " #   Column                     Non-Null Count  Dtype  \n",
            "---  ------                     --------------  -----  \n",
            " 0   home_team                  5737 non-null   object \n",
            " 1   away_team                  5737 non-null   object \n",
            " 2   home_score                 5737 non-null   int64  \n",
            " 3   away_score                 5737 non-null   int64  \n",
            " 4   tournament                 5737 non-null   object \n",
            " 5   home_team_rank             5737 non-null   float64\n",
            " 6   home_team_weighted_points  5737 non-null   float64\n",
            " 7   away_team_rank             5737 non-null   float64\n",
            " 8   away_team_weighted_points  5737 non-null   float64\n",
            "dtypes: float64(4), int64(2), object(3)\n",
            "memory usage: 448.2+ KB\n"
          ]
        }
      ]
    },
    {
      "cell_type": "markdown",
      "metadata": {
        "id": "jwkU7tm7EhM_"
      },
      "source": [
        "Our merged dataset has no null values and the datatypes are also appropriate hence no more data cleaning required, we therefore move to EDA"
      ]
    },
    {
      "cell_type": "markdown",
      "metadata": {
        "id": "xLu__sKuEBsX"
      },
      "source": [
        "## 5. Exploratory Data Analysis"
      ]
    },
    {
      "cell_type": "code",
      "metadata": {
        "id": "GxMovbpNEMSS",
        "colab": {
          "base_uri": "https://localhost:8080/",
          "height": 300
        },
        "outputId": "f01a961d-2bb1-4674-8704-d49c9a73daea"
      },
      "source": [
        "## Displaying the statistical values of our dataframe\n",
        "df.describe()"
      ],
      "execution_count": 36,
      "outputs": [
        {
          "output_type": "execute_result",
          "data": {
            "text/html": [
              "<div>\n",
              "<style scoped>\n",
              "    .dataframe tbody tr th:only-of-type {\n",
              "        vertical-align: middle;\n",
              "    }\n",
              "\n",
              "    .dataframe tbody tr th {\n",
              "        vertical-align: top;\n",
              "    }\n",
              "\n",
              "    .dataframe thead th {\n",
              "        text-align: right;\n",
              "    }\n",
              "</style>\n",
              "<table border=\"1\" class=\"dataframe\">\n",
              "  <thead>\n",
              "    <tr style=\"text-align: right;\">\n",
              "      <th></th>\n",
              "      <th>home_score</th>\n",
              "      <th>away_score</th>\n",
              "      <th>home_team_rank</th>\n",
              "      <th>home_team_weighted_points</th>\n",
              "      <th>away_team_rank</th>\n",
              "      <th>away_team_weighted_points</th>\n",
              "    </tr>\n",
              "  </thead>\n",
              "  <tbody>\n",
              "    <tr>\n",
              "      <th>count</th>\n",
              "      <td>5737.000000</td>\n",
              "      <td>5737.000000</td>\n",
              "      <td>5737.000000</td>\n",
              "      <td>5737.000000</td>\n",
              "      <td>5737.000000</td>\n",
              "      <td>5737.000000</td>\n",
              "    </tr>\n",
              "    <tr>\n",
              "      <th>mean</th>\n",
              "      <td>1.526756</td>\n",
              "      <td>1.048283</td>\n",
              "      <td>81.365656</td>\n",
              "      <td>397.851981</td>\n",
              "      <td>84.673131</td>\n",
              "      <td>380.139970</td>\n",
              "    </tr>\n",
              "    <tr>\n",
              "      <th>std</th>\n",
              "      <td>1.497798</td>\n",
              "      <td>1.222296</td>\n",
              "      <td>53.760750</td>\n",
              "      <td>261.660895</td>\n",
              "      <td>54.160607</td>\n",
              "      <td>254.211004</td>\n",
              "    </tr>\n",
              "    <tr>\n",
              "      <th>min</th>\n",
              "      <td>0.000000</td>\n",
              "      <td>0.000000</td>\n",
              "      <td>1.000000</td>\n",
              "      <td>0.000000</td>\n",
              "      <td>1.000000</td>\n",
              "      <td>0.000000</td>\n",
              "    </tr>\n",
              "    <tr>\n",
              "      <th>25%</th>\n",
              "      <td>0.000000</td>\n",
              "      <td>0.000000</td>\n",
              "      <td>35.000000</td>\n",
              "      <td>200.085000</td>\n",
              "      <td>38.916667</td>\n",
              "      <td>187.636667</td>\n",
              "    </tr>\n",
              "    <tr>\n",
              "      <th>50%</th>\n",
              "      <td>1.000000</td>\n",
              "      <td>1.000000</td>\n",
              "      <td>76.416667</td>\n",
              "      <td>343.468333</td>\n",
              "      <td>79.500000</td>\n",
              "      <td>331.887500</td>\n",
              "    </tr>\n",
              "    <tr>\n",
              "      <th>75%</th>\n",
              "      <td>2.000000</td>\n",
              "      <td>2.000000</td>\n",
              "      <td>121.666667</td>\n",
              "      <td>545.732500</td>\n",
              "      <td>124.416667</td>\n",
              "      <td>531.563333</td>\n",
              "    </tr>\n",
              "    <tr>\n",
              "      <th>max</th>\n",
              "      <td>15.000000</td>\n",
              "      <td>10.000000</td>\n",
              "      <td>207.916667</td>\n",
              "      <td>1264.343333</td>\n",
              "      <td>207.000000</td>\n",
              "      <td>1264.343333</td>\n",
              "    </tr>\n",
              "  </tbody>\n",
              "</table>\n",
              "</div>"
            ],
            "text/plain": [
              "        home_score   away_score  ...  away_team_rank  away_team_weighted_points\n",
              "count  5737.000000  5737.000000  ...     5737.000000                5737.000000\n",
              "mean      1.526756     1.048283  ...       84.673131                 380.139970\n",
              "std       1.497798     1.222296  ...       54.160607                 254.211004\n",
              "min       0.000000     0.000000  ...        1.000000                   0.000000\n",
              "25%       0.000000     0.000000  ...       38.916667                 187.636667\n",
              "50%       1.000000     1.000000  ...       79.500000                 331.887500\n",
              "75%       2.000000     2.000000  ...      124.416667                 531.563333\n",
              "max      15.000000    10.000000  ...      207.000000                1264.343333\n",
              "\n",
              "[8 rows x 6 columns]"
            ]
          },
          "metadata": {},
          "execution_count": 36
        }
      ]
    },
    {
      "cell_type": "code",
      "metadata": {
        "id": "SaE1MqhVGcVg",
        "colab": {
          "base_uri": "https://localhost:8080/",
          "height": 673
        },
        "outputId": "fbbf1f64-747b-419d-9480-5a96d68588a7"
      },
      "source": [
        "# Checking for data distribution using histograms\n",
        "df.hist(bins=10, figsize=[17,8])"
      ],
      "execution_count": 111,
      "outputs": [
        {
          "output_type": "execute_result",
          "data": {
            "text/plain": [
              "array([[<matplotlib.axes._subplots.AxesSubplot object at 0x7f00b8fe8b10>,\n",
              "        <matplotlib.axes._subplots.AxesSubplot object at 0x7f00b8c89210>,\n",
              "        <matplotlib.axes._subplots.AxesSubplot object at 0x7f00b8c386d0>],\n",
              "       [<matplotlib.axes._subplots.AxesSubplot object at 0x7f00b8c6bc50>,\n",
              "        <matplotlib.axes._subplots.AxesSubplot object at 0x7f00b8c2f210>,\n",
              "        <matplotlib.axes._subplots.AxesSubplot object at 0x7f00b8be1790>],\n",
              "       [<matplotlib.axes._subplots.AxesSubplot object at 0x7f00b8b96d90>,\n",
              "        <matplotlib.axes._subplots.AxesSubplot object at 0x7f00b8b59290>,\n",
              "        <matplotlib.axes._subplots.AxesSubplot object at 0x7f00b8b592d0>]],\n",
              "      dtype=object)"
            ]
          },
          "metadata": {},
          "execution_count": 111
        },
        {
          "output_type": "display_data",
          "data": {
            "image/png": "[encoded data removed]",
            "text/plain": [
              "<Figure size 1224x576 with 9 Axes>"
            ]
          },
          "metadata": {
            "needs_background": "light"
          }
        }
      ]
    },
    {
      "cell_type": "markdown",
      "metadata": {
        "id": "mpH0ByM3Gs0S"
      },
      "source": [
        "The data does not show a perfect normal distribution. \n",
        "\n",
        "\n"
      ]
    },
    {
      "cell_type": "code",
      "metadata": {
        "id": "_7XQDKGAMR0R",
        "colab": {
          "base_uri": "https://localhost:8080/",
          "height": 282
        },
        "outputId": "e83fc12c-8327-417a-a70b-a3ed1666afa6"
      },
      "source": [
        "#Checking tournament type value counts\n",
        "\n",
        "df.tournament.value_counts().sort_values().head(10).plot(kind = 'barh', color='green')\n",
        "\n",
        "#The tournament type ABCS recorded the highest number of matches"
      ],
      "execution_count": 109,
      "outputs": [
        {
          "output_type": "execute_result",
          "data": {
            "text/plain": [
              "<matplotlib.axes._subplots.AxesSubplot at 0x7f00b91df450>"
            ]
          },
          "metadata": {},
          "execution_count": 109
        },
        {
          "output_type": "display_data",
          "data": {
            "image/png": "[encoded data removed]",
            "text/plain": [
              "<Figure size 432x288 with 1 Axes>"
            ]
          },
          "metadata": {
            "needs_background": "light"
          }
        }
      ]
    },
    {
      "cell_type": "code",
      "metadata": {
        "id": "bNicf3-THXNi",
        "colab": {
          "base_uri": "https://localhost:8080/",
          "height": 640
        },
        "outputId": "fcfb0bb8-9a71-4c34-92da-65d4f89f910b"
      },
      "source": [
        "#Checking for feature correlation\n",
        "plt.subplots(figsize=(15,8))\n",
        "sns.heatmap(df.corr(method='pearson'), annot=True)"
      ],
      "execution_count": 42,
      "outputs": [
        {
          "output_type": "execute_result",
          "data": {
            "text/plain": [
              "<matplotlib.axes._subplots.AxesSubplot at 0x7f00c5ecdfd0>"
            ]
          },
          "metadata": {},
          "execution_count": 42
        },
        {
          "output_type": "display_data",
          "data": {
            "image/png": "[encoded data removed]",
            "text/plain": [
              "<Figure size 1080x576 with 2 Axes>"
            ]
          },
          "metadata": {
            "needs_background": "light"
          }
        }
      ]
    },
    {
      "cell_type": "code",
      "metadata": {
        "id": "PSGN5LD7HtNe",
        "colab": {
          "base_uri": "https://localhost:8080/",
          "height": 386
        },
        "outputId": "11073fa1-0224-4f17-cfc2-259a67aaf8eb"
      },
      "source": [
        " sns.lmplot(x=\"home_team_rank\", y=\"home_team_weighted_points\", data=df)"
      ],
      "execution_count": 113,
      "outputs": [
        {
          "output_type": "execute_result",
          "data": {
            "text/plain": [
              "<seaborn.axisgrid.FacetGrid at 0x7f00b88d4290>"
            ]
          },
          "metadata": {},
          "execution_count": 113
        },
        {
          "output_type": "display_data",
          "data": {
            "image/png": "[encoded data removed]",
            "text/plain": [
              "<Figure size 360x360 with 1 Axes>"
            ]
          },
          "metadata": {
            "needs_background": "light"
          }
        }
      ]
    },
    {
      "cell_type": "code",
      "metadata": {
        "id": "y1tqlOBEKAr0",
        "colab": {
          "base_uri": "https://localhost:8080/",
          "height": 386
        },
        "outputId": "25a1faaf-f34f-4f4c-ddbe-40e0c03da5c2"
      },
      "source": [
        "sns.lmplot(x=\"away_team_rank\", y=\"away_team_weighted_points\", data=df)"
      ],
      "execution_count": 47,
      "outputs": [
        {
          "output_type": "execute_result",
          "data": {
            "text/plain": [
              "<seaborn.axisgrid.FacetGrid at 0x7f00c4fb7c90>"
            ]
          },
          "metadata": {},
          "execution_count": 47
        },
        {
          "output_type": "display_data",
          "data": {
            "image/png": "[encoded data removed]",
            "text/plain": [
              "<Figure size 360x360 with 1 Axes>"
            ]
          },
          "metadata": {
            "needs_background": "light"
          }
        }
      ]
    },
    {
      "cell_type": "markdown",
      "metadata": {
        "id": "58ZcwJ0pH39U"
      },
      "source": [
        "The above plots show that there is a strong negative correlation between rank and total weighted points of the teams. \n",
        "\n",
        "\n"
      ]
    },
    {
      "cell_type": "code",
      "metadata": {
        "id": "aytd161gowVF",
        "colab": {
          "base_uri": "https://localhost:8080/",
          "height": 206
        },
        "outputId": "4c67ff79-5698-4dfa-e95f-bad13d2332d9"
      },
      "source": [
        "home = df[['home_team', 'home_score']].rename(columns={'home_team':'team', 'home_score':'score'})\n",
        "away = df[['away_team', 'away_score']].rename(columns={'away_team':'team', 'away_score':'score'})\n",
        "# merge it into one\n",
        "team_score = home.append(away).reset_index(drop=True)\n",
        "# make an aggregation of the the score column group by the team\n",
        "country_info = team_score.groupby('team')['score'].agg(['sum','count','mean']).reset_index()\n",
        "country_info = country_info.rename(columns={'sum':'nb_goals', 'count':'nb_matches', 'mean':'goal_avg'})\n",
        "del home,away\n",
        "country_info.tail()"
      ],
      "execution_count": 49,
      "outputs": [
        {
          "output_type": "execute_result",
          "data": {
            "text/html": [
              "<div>\n",
              "<style scoped>\n",
              "    .dataframe tbody tr th:only-of-type {\n",
              "        vertical-align: middle;\n",
              "    }\n",
              "\n",
              "    .dataframe tbody tr th {\n",
              "        vertical-align: top;\n",
              "    }\n",
              "\n",
              "    .dataframe thead th {\n",
              "        text-align: right;\n",
              "    }\n",
              "</style>\n",
              "<table border=\"1\" class=\"dataframe\">\n",
              "  <thead>\n",
              "    <tr style=\"text-align: right;\">\n",
              "      <th></th>\n",
              "      <th>team</th>\n",
              "      <th>nb_goals</th>\n",
              "      <th>nb_matches</th>\n",
              "      <th>goal_avg</th>\n",
              "    </tr>\n",
              "  </thead>\n",
              "  <tbody>\n",
              "    <tr>\n",
              "      <th>191</th>\n",
              "      <td>Vietnam</td>\n",
              "      <td>88</td>\n",
              "      <td>55</td>\n",
              "      <td>1.600000</td>\n",
              "    </tr>\n",
              "    <tr>\n",
              "      <th>192</th>\n",
              "      <td>Wales</td>\n",
              "      <td>73</td>\n",
              "      <td>62</td>\n",
              "      <td>1.177419</td>\n",
              "    </tr>\n",
              "    <tr>\n",
              "      <th>193</th>\n",
              "      <td>Yemen</td>\n",
              "      <td>33</td>\n",
              "      <td>56</td>\n",
              "      <td>0.589286</td>\n",
              "    </tr>\n",
              "    <tr>\n",
              "      <th>194</th>\n",
              "      <td>Zambia</td>\n",
              "      <td>123</td>\n",
              "      <td>110</td>\n",
              "      <td>1.118182</td>\n",
              "    </tr>\n",
              "    <tr>\n",
              "      <th>195</th>\n",
              "      <td>Zimbabwe</td>\n",
              "      <td>109</td>\n",
              "      <td>79</td>\n",
              "      <td>1.379747</td>\n",
              "    </tr>\n",
              "  </tbody>\n",
              "</table>\n",
              "</div>"
            ],
            "text/plain": [
              "         team  nb_goals  nb_matches  goal_avg\n",
              "191   Vietnam        88          55  1.600000\n",
              "192     Wales        73          62  1.177419\n",
              "193     Yemen        33          56  0.589286\n",
              "194    Zambia       123         110  1.118182\n",
              "195  Zimbabwe       109          79  1.379747"
            ]
          },
          "metadata": {},
          "execution_count": 49
        }
      ]
    },
    {
      "cell_type": "code",
      "metadata": {
        "id": "mwsmmScXyhl6"
      },
      "source": [
        ""
      ],
      "execution_count": null,
      "outputs": []
    },
    {
      "cell_type": "code",
      "metadata": {
        "id": "WrJ8cFFyp92V",
        "colab": {
          "base_uri": "https://localhost:8080/",
          "height": 347
        },
        "outputId": "b28f54b3-170a-43e2-a7f5-acabee5d5536"
      },
      "source": [
        "#Top 10 countries by number of goals\n",
        "country_info.nlargest(10,['nb_goals']).sort_values(by='nb_goals').plot(kind='bar',x='team',y='nb_goals', color='orange')"
      ],
      "execution_count": 108,
      "outputs": [
        {
          "output_type": "execute_result",
          "data": {
            "text/plain": [
              "<matplotlib.axes._subplots.AxesSubplot at 0x7f00b91d8310>"
            ]
          },
          "metadata": {},
          "execution_count": 108
        },
        {
          "output_type": "display_data",
          "data": {
            "image/png": "[encoded data removed]",
            "text/plain": [
              "<Figure size 432x288 with 1 Axes>"
            ]
          },
          "metadata": {
            "needs_background": "light"
          }
        }
      ]
    },
    {
      "cell_type": "code",
      "metadata": {
        "id": "-cJY8kpYrdvc",
        "colab": {
          "base_uri": "https://localhost:8080/",
          "height": 326
        },
        "outputId": "1f98c151-3e31-4b34-9170-7710506dce1c"
      },
      "source": [
        "#Top 10 countries by number of goals\n",
        "country_info.nlargest(10, ['nb_matches']).sort_values(by='nb_matches').plot(kind='bar',x='team',y='nb_matches', color='purple')"
      ],
      "execution_count": 116,
      "outputs": [
        {
          "output_type": "execute_result",
          "data": {
            "text/plain": [
              "<matplotlib.axes._subplots.AxesSubplot at 0x7f00b874c9d0>"
            ]
          },
          "metadata": {},
          "execution_count": 116
        },
        {
          "output_type": "display_data",
          "data": {
            "image/png": "[encoded data removed]",
            "text/plain": [
              "<Figure size 432x288 with 1 Axes>"
            ]
          },
          "metadata": {
            "needs_background": "light"
          }
        }
      ]
    },
    {
      "cell_type": "markdown",
      "metadata": {
        "id": "aPgrDv_M0kvD"
      },
      "source": [
        "## 6. Feature Engineering"
      ]
    },
    {
      "cell_type": "markdown",
      "metadata": {
        "id": "R2srNmYpDDGl"
      },
      "source": [
        "First we create a new column 'Status' that contains results on whether a match was a win, lose or draw from the home team perspective"
      ]
    },
    {
      "cell_type": "code",
      "metadata": {
        "id": "mypJyKzXAAGK",
        "colab": {
          "base_uri": "https://localhost:8080/",
          "height": 202
        },
        "outputId": "b7136b94-ece1-4ef5-8964-90aeb9d87e39"
      },
      "source": [
        "#Creating a new column 'Status' \n",
        "def status_load(value):\n",
        "    if value['home_score'] == value['away_score']:\n",
        "        val = 'Draw'\n",
        "    elif value['home_score'] > value['away_score']:\n",
        "        val = 'Win'\n",
        "    else:\n",
        "        val = 'Lose'\n",
        "    return val\n",
        "\n",
        "df['Status'] = df.apply(status_load, axis=1)\n",
        "\n",
        "df.head(2)"
      ],
      "execution_count": 63,
      "outputs": [
        {
          "output_type": "execute_result",
          "data": {
            "text/html": [
              "<div>\n",
              "<style scoped>\n",
              "    .dataframe tbody tr th:only-of-type {\n",
              "        vertical-align: middle;\n",
              "    }\n",
              "\n",
              "    .dataframe tbody tr th {\n",
              "        vertical-align: top;\n",
              "    }\n",
              "\n",
              "    .dataframe thead th {\n",
              "        text-align: right;\n",
              "    }\n",
              "</style>\n",
              "<table border=\"1\" class=\"dataframe\">\n",
              "  <thead>\n",
              "    <tr style=\"text-align: right;\">\n",
              "      <th></th>\n",
              "      <th>home_team</th>\n",
              "      <th>away_team</th>\n",
              "      <th>home_score</th>\n",
              "      <th>away_score</th>\n",
              "      <th>tournament</th>\n",
              "      <th>home_team_rank</th>\n",
              "      <th>home_team_weighted_points</th>\n",
              "      <th>away_team_rank</th>\n",
              "      <th>away_team_weighted_points</th>\n",
              "      <th>Status</th>\n",
              "    </tr>\n",
              "  </thead>\n",
              "  <tbody>\n",
              "    <tr>\n",
              "      <th>0</th>\n",
              "      <td>United Arab Emirates</td>\n",
              "      <td>Qatar</td>\n",
              "      <td>3</td>\n",
              "      <td>1</td>\n",
              "      <td>Friendly</td>\n",
              "      <td>118.75</td>\n",
              "      <td>161.6250</td>\n",
              "      <td>95.0</td>\n",
              "      <td>311.495</td>\n",
              "      <td>Win</td>\n",
              "    </tr>\n",
              "    <tr>\n",
              "      <th>1</th>\n",
              "      <td>Bahrain</td>\n",
              "      <td>Qatar</td>\n",
              "      <td>0</td>\n",
              "      <td>0</td>\n",
              "      <td>FIFA World Cup qualification</td>\n",
              "      <td>101.50</td>\n",
              "      <td>282.6375</td>\n",
              "      <td>95.0</td>\n",
              "      <td>311.495</td>\n",
              "      <td>Draw</td>\n",
              "    </tr>\n",
              "  </tbody>\n",
              "</table>\n",
              "</div>"
            ],
            "text/plain": [
              "              home_team away_team  ...  away_team_weighted_points  Status\n",
              "0  United Arab Emirates     Qatar  ...                    311.495     Win\n",
              "1               Bahrain     Qatar  ...                    311.495    Draw\n",
              "\n",
              "[2 rows x 10 columns]"
            ]
          },
          "metadata": {},
          "execution_count": 63
        }
      ]
    },
    {
      "cell_type": "markdown",
      "metadata": {
        "id": "Ysb722RiDb9P"
      },
      "source": [
        "Then we change the categorical columns into binary\n",
        "\n",
        "---\n",
        "\n"
      ]
    },
    {
      "cell_type": "code",
      "metadata": {
        "id": "dyE7xZtNO8Ls",
        "colab": {
          "base_uri": "https://localhost:8080/"
        },
        "outputId": "7bb45e32-ef13-459f-bb71-f907a931b5fe"
      },
      "source": [
        "#Change status and tournament to categories\n",
        "data['tournament'] = data['tournament'].astype('category')\n",
        "data['Status'] = data['Status'].astype('category')\n",
        "data.info()"
      ],
      "execution_count": 64,
      "outputs": [
        {
          "output_type": "stream",
          "name": "stdout",
          "text": [
            "<class 'pandas.core.frame.DataFrame'>\n",
            "Int64Index: 5737 entries, 0 to 5736\n",
            "Data columns (total 10 columns):\n",
            " #   Column             Non-Null Count  Dtype   \n",
            "---  ------             --------------  -----   \n",
            " 0   home_team          5737 non-null   object  \n",
            " 1   away_team          5737 non-null   object  \n",
            " 2   home_score         5737 non-null   int64   \n",
            " 3   away_score         5737 non-null   int64   \n",
            " 4   tournament         5737 non-null   category\n",
            " 5   rank_x             5737 non-null   float64 \n",
            " 6   weighted_points_x  5737 non-null   float64 \n",
            " 7   rank_y             5737 non-null   float64 \n",
            " 8   weighted_points_y  5737 non-null   float64 \n",
            " 9   Status             5737 non-null   category\n",
            "dtypes: category(2), float64(4), int64(2), object(2)\n",
            "memory usage: 416.3+ KB\n"
          ]
        }
      ]
    },
    {
      "cell_type": "code",
      "metadata": {
        "id": "PgTCbC5Zk--3",
        "colab": {
          "base_uri": "https://localhost:8080/",
          "height": 223
        },
        "outputId": "38cf9ab6-6722-4e53-8c1c-2af533e1dab7"
      },
      "source": [
        "# Import label encoder \n",
        "from sklearn import preprocessing \n",
        "  \n",
        "# label_encoder object knows how to understand word labels. \n",
        "label_encoder = preprocessing.LabelEncoder() \n",
        "  \n",
        "# Encode labels in column 'Status'. \n",
        "data['Status']= label_encoder.fit_transform(data['Status']) \n",
        "  \n",
        "print(data['Status'].unique()) \n",
        "data.head()\n",
        "#Where 2:win, 1: lose, 0:Draw"
      ],
      "execution_count": 66,
      "outputs": [
        {
          "output_type": "stream",
          "name": "stdout",
          "text": [
            "[2 0 1]\n"
          ]
        },
        {
          "output_type": "execute_result",
          "data": {
            "text/html": [
              "<div>\n",
              "<style scoped>\n",
              "    .dataframe tbody tr th:only-of-type {\n",
              "        vertical-align: middle;\n",
              "    }\n",
              "\n",
              "    .dataframe tbody tr th {\n",
              "        vertical-align: top;\n",
              "    }\n",
              "\n",
              "    .dataframe thead th {\n",
              "        text-align: right;\n",
              "    }\n",
              "</style>\n",
              "<table border=\"1\" class=\"dataframe\">\n",
              "  <thead>\n",
              "    <tr style=\"text-align: right;\">\n",
              "      <th></th>\n",
              "      <th>home_team</th>\n",
              "      <th>away_team</th>\n",
              "      <th>home_score</th>\n",
              "      <th>away_score</th>\n",
              "      <th>tournament</th>\n",
              "      <th>rank_x</th>\n",
              "      <th>weighted_points_x</th>\n",
              "      <th>rank_y</th>\n",
              "      <th>weighted_points_y</th>\n",
              "      <th>Status</th>\n",
              "    </tr>\n",
              "  </thead>\n",
              "  <tbody>\n",
              "    <tr>\n",
              "      <th>0</th>\n",
              "      <td>United Arab Emirates</td>\n",
              "      <td>Qatar</td>\n",
              "      <td>3</td>\n",
              "      <td>1</td>\n",
              "      <td>22</td>\n",
              "      <td>118.75</td>\n",
              "      <td>161.6250</td>\n",
              "      <td>95.0</td>\n",
              "      <td>311.495</td>\n",
              "      <td>2</td>\n",
              "    </tr>\n",
              "    <tr>\n",
              "      <th>1</th>\n",
              "      <td>Bahrain</td>\n",
              "      <td>Qatar</td>\n",
              "      <td>0</td>\n",
              "      <td>0</td>\n",
              "      <td>21</td>\n",
              "      <td>101.50</td>\n",
              "      <td>282.6375</td>\n",
              "      <td>95.0</td>\n",
              "      <td>311.495</td>\n",
              "      <td>0</td>\n",
              "    </tr>\n",
              "    <tr>\n",
              "      <th>2</th>\n",
              "      <td>Indonesia</td>\n",
              "      <td>Qatar</td>\n",
              "      <td>2</td>\n",
              "      <td>3</td>\n",
              "      <td>21</td>\n",
              "      <td>141.25</td>\n",
              "      <td>151.8750</td>\n",
              "      <td>95.0</td>\n",
              "      <td>311.495</td>\n",
              "      <td>1</td>\n",
              "    </tr>\n",
              "    <tr>\n",
              "      <th>3</th>\n",
              "      <td>United Arab Emirates</td>\n",
              "      <td>Kuwait</td>\n",
              "      <td>2</td>\n",
              "      <td>3</td>\n",
              "      <td>21</td>\n",
              "      <td>118.75</td>\n",
              "      <td>161.6250</td>\n",
              "      <td>98.5</td>\n",
              "      <td>255.315</td>\n",
              "      <td>1</td>\n",
              "    </tr>\n",
              "    <tr>\n",
              "      <th>4</th>\n",
              "      <td>Oman</td>\n",
              "      <td>Kuwait</td>\n",
              "      <td>1</td>\n",
              "      <td>0</td>\n",
              "      <td>22</td>\n",
              "      <td>96.50</td>\n",
              "      <td>289.5250</td>\n",
              "      <td>98.5</td>\n",
              "      <td>255.315</td>\n",
              "      <td>2</td>\n",
              "    </tr>\n",
              "  </tbody>\n",
              "</table>\n",
              "</div>"
            ],
            "text/plain": [
              "              home_team away_team  ...  weighted_points_y  Status\n",
              "0  United Arab Emirates     Qatar  ...            311.495       2\n",
              "1               Bahrain     Qatar  ...            311.495       0\n",
              "2             Indonesia     Qatar  ...            311.495       1\n",
              "3  United Arab Emirates    Kuwait  ...            255.315       1\n",
              "4                  Oman    Kuwait  ...            255.315       2\n",
              "\n",
              "[5 rows x 10 columns]"
            ]
          },
          "metadata": {},
          "execution_count": 66
        }
      ]
    },
    {
      "cell_type": "code",
      "metadata": {
        "id": "ZmNGC0cYldqR",
        "colab": {
          "base_uri": "https://localhost:8080/",
          "height": 330
        },
        "outputId": "226237f1-7197-447c-8389-ab1e27a569fa"
      },
      "source": [
        "# Encode labels in column 'tournament'. \n",
        "df['tournament']= label_encoder.fit_transform(df['tournament']) \n",
        "  \n",
        "print(df['tournament'].unique()) \n",
        "df.head()\n"
      ],
      "execution_count": 117,
      "outputs": [
        {
          "output_type": "stream",
          "name": "stdout",
          "text": [
            "[22 21 10  7 32 31  0 36 18 33  6 34  8 40 35 17  3  5 19 28 26 39  9 12\n",
            " 11 30 24  2  4 13 14 29 23 38 20 41  1 15 27 16 37 25]\n"
          ]
        },
        {
          "output_type": "execute_result",
          "data": {
            "text/html": [
              "<div>\n",
              "<style scoped>\n",
              "    .dataframe tbody tr th:only-of-type {\n",
              "        vertical-align: middle;\n",
              "    }\n",
              "\n",
              "    .dataframe tbody tr th {\n",
              "        vertical-align: top;\n",
              "    }\n",
              "\n",
              "    .dataframe thead th {\n",
              "        text-align: right;\n",
              "    }\n",
              "</style>\n",
              "<table border=\"1\" class=\"dataframe\">\n",
              "  <thead>\n",
              "    <tr style=\"text-align: right;\">\n",
              "      <th></th>\n",
              "      <th>home_team</th>\n",
              "      <th>away_team</th>\n",
              "      <th>home_score</th>\n",
              "      <th>away_score</th>\n",
              "      <th>tournament</th>\n",
              "      <th>home_team_rank</th>\n",
              "      <th>home_team_weighted_points</th>\n",
              "      <th>away_team_rank</th>\n",
              "      <th>away_team_weighted_points</th>\n",
              "      <th>Status</th>\n",
              "    </tr>\n",
              "  </thead>\n",
              "  <tbody>\n",
              "    <tr>\n",
              "      <th>0</th>\n",
              "      <td>United Arab Emirates</td>\n",
              "      <td>Qatar</td>\n",
              "      <td>3</td>\n",
              "      <td>1</td>\n",
              "      <td>22</td>\n",
              "      <td>118.75</td>\n",
              "      <td>161.6250</td>\n",
              "      <td>95.0</td>\n",
              "      <td>311.495</td>\n",
              "      <td>Win</td>\n",
              "    </tr>\n",
              "    <tr>\n",
              "      <th>1</th>\n",
              "      <td>Bahrain</td>\n",
              "      <td>Qatar</td>\n",
              "      <td>0</td>\n",
              "      <td>0</td>\n",
              "      <td>21</td>\n",
              "      <td>101.50</td>\n",
              "      <td>282.6375</td>\n",
              "      <td>95.0</td>\n",
              "      <td>311.495</td>\n",
              "      <td>Draw</td>\n",
              "    </tr>\n",
              "    <tr>\n",
              "      <th>2</th>\n",
              "      <td>Indonesia</td>\n",
              "      <td>Qatar</td>\n",
              "      <td>2</td>\n",
              "      <td>3</td>\n",
              "      <td>21</td>\n",
              "      <td>141.25</td>\n",
              "      <td>151.8750</td>\n",
              "      <td>95.0</td>\n",
              "      <td>311.495</td>\n",
              "      <td>Lose</td>\n",
              "    </tr>\n",
              "    <tr>\n",
              "      <th>3</th>\n",
              "      <td>United Arab Emirates</td>\n",
              "      <td>Kuwait</td>\n",
              "      <td>2</td>\n",
              "      <td>3</td>\n",
              "      <td>21</td>\n",
              "      <td>118.75</td>\n",
              "      <td>161.6250</td>\n",
              "      <td>98.5</td>\n",
              "      <td>255.315</td>\n",
              "      <td>Lose</td>\n",
              "    </tr>\n",
              "    <tr>\n",
              "      <th>4</th>\n",
              "      <td>Oman</td>\n",
              "      <td>Kuwait</td>\n",
              "      <td>1</td>\n",
              "      <td>0</td>\n",
              "      <td>22</td>\n",
              "      <td>96.50</td>\n",
              "      <td>289.5250</td>\n",
              "      <td>98.5</td>\n",
              "      <td>255.315</td>\n",
              "      <td>Win</td>\n",
              "    </tr>\n",
              "  </tbody>\n",
              "</table>\n",
              "</div>"
            ],
            "text/plain": [
              "              home_team away_team  ...  away_team_weighted_points  Status\n",
              "0  United Arab Emirates     Qatar  ...                    311.495     Win\n",
              "1               Bahrain     Qatar  ...                    311.495    Draw\n",
              "2             Indonesia     Qatar  ...                    311.495    Lose\n",
              "3  United Arab Emirates    Kuwait  ...                    255.315    Lose\n",
              "4                  Oman    Kuwait  ...                    255.315     Win\n",
              "\n",
              "[5 rows x 10 columns]"
            ]
          },
          "metadata": {},
          "execution_count": 117
        }
      ]
    },
    {
      "cell_type": "markdown",
      "metadata": {
        "id": "fkCH6qEVm14n"
      },
      "source": [
        "As explained earlier we will use Polynomial Regression and logistic Regression for this study.\n",
        "For polynomial approach we will use two models:\n",
        "\n",
        "Model 1: Predict how many goals the home team scores.\n",
        "\n",
        "Model 2: Predict how many goals the away team scores.\n",
        "\n",
        "We will separate our data into two to prepare it for modelling using both models\n"
      ]
    },
    {
      "cell_type": "code",
      "metadata": {
        "id": "ZkO9ueTutF1H",
        "colab": {
          "base_uri": "https://localhost:8080/"
        },
        "outputId": "5f12deaf-6d8a-406c-c2ba-2af53fff7897"
      },
      "source": [
        "df.columns"
      ],
      "execution_count": 69,
      "outputs": [
        {
          "output_type": "execute_result",
          "data": {
            "text/plain": [
              "Index(['home_team', 'away_team', 'home_score', 'away_score', 'tournament',\n",
              "       'home_team_rank', 'home_team_weighted_points', 'away_team_rank',\n",
              "       'away_team_weighted_points', 'Status'],\n",
              "      dtype='object')"
            ]
          },
          "metadata": {},
          "execution_count": 69
        }
      ]
    },
    {
      "cell_type": "code",
      "metadata": {
        "id": "ZTBUhu1CnXrM",
        "colab": {
          "base_uri": "https://localhost:8080/",
          "height": 143
        },
        "outputId": "e0391e2f-6d59-4ec7-d7a6-db711b78ac75"
      },
      "source": [
        "home = df[['home_score', 'tournament', 'home_team_rank','away_team_rank', 'home_team_weighted_points']]\n",
        "home.head(3)"
      ],
      "execution_count": 104,
      "outputs": [
        {
          "output_type": "execute_result",
          "data": {
            "text/html": [
              "<div>\n",
              "<style scoped>\n",
              "    .dataframe tbody tr th:only-of-type {\n",
              "        vertical-align: middle;\n",
              "    }\n",
              "\n",
              "    .dataframe tbody tr th {\n",
              "        vertical-align: top;\n",
              "    }\n",
              "\n",
              "    .dataframe thead th {\n",
              "        text-align: right;\n",
              "    }\n",
              "</style>\n",
              "<table border=\"1\" class=\"dataframe\">\n",
              "  <thead>\n",
              "    <tr style=\"text-align: right;\">\n",
              "      <th></th>\n",
              "      <th>home_score</th>\n",
              "      <th>tournament</th>\n",
              "      <th>home_team_rank</th>\n",
              "      <th>away_team_rank</th>\n",
              "      <th>home_team_weighted_points</th>\n",
              "    </tr>\n",
              "  </thead>\n",
              "  <tbody>\n",
              "    <tr>\n",
              "      <th>0</th>\n",
              "      <td>3</td>\n",
              "      <td>22</td>\n",
              "      <td>118.75</td>\n",
              "      <td>95.0</td>\n",
              "      <td>161.6250</td>\n",
              "    </tr>\n",
              "    <tr>\n",
              "      <th>1</th>\n",
              "      <td>0</td>\n",
              "      <td>21</td>\n",
              "      <td>101.50</td>\n",
              "      <td>95.0</td>\n",
              "      <td>282.6375</td>\n",
              "    </tr>\n",
              "    <tr>\n",
              "      <th>2</th>\n",
              "      <td>2</td>\n",
              "      <td>21</td>\n",
              "      <td>141.25</td>\n",
              "      <td>95.0</td>\n",
              "      <td>151.8750</td>\n",
              "    </tr>\n",
              "  </tbody>\n",
              "</table>\n",
              "</div>"
            ],
            "text/plain": [
              "   home_score  tournament  ...  away_team_rank  home_team_weighted_points\n",
              "0           3          22  ...            95.0                   161.6250\n",
              "1           0          21  ...            95.0                   282.6375\n",
              "2           2          21  ...            95.0                   151.8750\n",
              "\n",
              "[3 rows x 5 columns]"
            ]
          },
          "metadata": {},
          "execution_count": 104
        }
      ]
    },
    {
      "cell_type": "code",
      "metadata": {
        "id": "c8tDB7EquC78",
        "colab": {
          "base_uri": "https://localhost:8080/",
          "height": 112
        },
        "outputId": "642ac7cc-87f2-490f-f523-e8c63d949ff1"
      },
      "source": [
        "away =df[['away_score', 'tournament','home_team_rank', 'away_team_rank', 'away_team_weighted_points']]\n",
        "away.head(2)"
      ],
      "execution_count": 72,
      "outputs": [
        {
          "output_type": "execute_result",
          "data": {
            "text/html": [
              "<div>\n",
              "<style scoped>\n",
              "    .dataframe tbody tr th:only-of-type {\n",
              "        vertical-align: middle;\n",
              "    }\n",
              "\n",
              "    .dataframe tbody tr th {\n",
              "        vertical-align: top;\n",
              "    }\n",
              "\n",
              "    .dataframe thead th {\n",
              "        text-align: right;\n",
              "    }\n",
              "</style>\n",
              "<table border=\"1\" class=\"dataframe\">\n",
              "  <thead>\n",
              "    <tr style=\"text-align: right;\">\n",
              "      <th></th>\n",
              "      <th>away_score</th>\n",
              "      <th>tournament</th>\n",
              "      <th>home_team_rank</th>\n",
              "      <th>away_team_rank</th>\n",
              "      <th>away_team_weighted_points</th>\n",
              "    </tr>\n",
              "  </thead>\n",
              "  <tbody>\n",
              "    <tr>\n",
              "      <th>0</th>\n",
              "      <td>1</td>\n",
              "      <td>22</td>\n",
              "      <td>118.75</td>\n",
              "      <td>95.0</td>\n",
              "      <td>311.495</td>\n",
              "    </tr>\n",
              "    <tr>\n",
              "      <th>1</th>\n",
              "      <td>0</td>\n",
              "      <td>21</td>\n",
              "      <td>101.50</td>\n",
              "      <td>95.0</td>\n",
              "      <td>311.495</td>\n",
              "    </tr>\n",
              "  </tbody>\n",
              "</table>\n",
              "</div>"
            ],
            "text/plain": [
              "   away_score  tournament  ...  away_team_rank  away_team_weighted_points\n",
              "0           1          22  ...            95.0                    311.495\n",
              "1           0          21  ...            95.0                    311.495\n",
              "\n",
              "[2 rows x 5 columns]"
            ]
          },
          "metadata": {},
          "execution_count": 72
        }
      ]
    },
    {
      "cell_type": "markdown",
      "metadata": {
        "id": "1KC46Nm2uhzi"
      },
      "source": [
        "## 7. Checking for multicollinearlity"
      ]
    },
    {
      "cell_type": "code",
      "metadata": {
        "id": "debHFv1xyWTJ"
      },
      "source": [
        "#Dropping target variable\n",
        "ind_home = home.drop(columns=['home_score'])"
      ],
      "execution_count": 102,
      "outputs": []
    },
    {
      "cell_type": "code",
      "metadata": {
        "id": "9Zj3lQZHwYQu",
        "colab": {
          "base_uri": "https://localhost:8080/",
          "height": 174
        },
        "outputId": "dc063de4-c0cc-4a0c-d730-73bd60b4b6d4"
      },
      "source": [
        "## Plotting the correlation table\n",
        "correlations = ind_home.corr()\n",
        "correlations"
      ],
      "execution_count": 103,
      "outputs": [
        {
          "output_type": "execute_result",
          "data": {
            "text/html": [
              "<div>\n",
              "<style scoped>\n",
              "    .dataframe tbody tr th:only-of-type {\n",
              "        vertical-align: middle;\n",
              "    }\n",
              "\n",
              "    .dataframe tbody tr th {\n",
              "        vertical-align: top;\n",
              "    }\n",
              "\n",
              "    .dataframe thead th {\n",
              "        text-align: right;\n",
              "    }\n",
              "</style>\n",
              "<table border=\"1\" class=\"dataframe\">\n",
              "  <thead>\n",
              "    <tr style=\"text-align: right;\">\n",
              "      <th></th>\n",
              "      <th>tournament</th>\n",
              "      <th>home_team_rank</th>\n",
              "      <th>away_team_rank</th>\n",
              "      <th>home_team_weighted_points</th>\n",
              "    </tr>\n",
              "  </thead>\n",
              "  <tbody>\n",
              "    <tr>\n",
              "      <th>tournament</th>\n",
              "      <td>1.000000</td>\n",
              "      <td>-0.184170</td>\n",
              "      <td>-0.183864</td>\n",
              "      <td>0.198956</td>\n",
              "    </tr>\n",
              "    <tr>\n",
              "      <th>home_team_rank</th>\n",
              "      <td>-0.184170</td>\n",
              "      <td>1.000000</td>\n",
              "      <td>0.528137</td>\n",
              "      <td>-0.923834</td>\n",
              "    </tr>\n",
              "    <tr>\n",
              "      <th>away_team_rank</th>\n",
              "      <td>-0.183864</td>\n",
              "      <td>0.528137</td>\n",
              "      <td>1.000000</td>\n",
              "      <td>-0.501706</td>\n",
              "    </tr>\n",
              "    <tr>\n",
              "      <th>home_team_weighted_points</th>\n",
              "      <td>0.198956</td>\n",
              "      <td>-0.923834</td>\n",
              "      <td>-0.501706</td>\n",
              "      <td>1.000000</td>\n",
              "    </tr>\n",
              "  </tbody>\n",
              "</table>\n",
              "</div>"
            ],
            "text/plain": [
              "                           tournament  ...  home_team_weighted_points\n",
              "tournament                   1.000000  ...                   0.198956\n",
              "home_team_rank              -0.184170  ...                  -0.923834\n",
              "away_team_rank              -0.183864  ...                  -0.501706\n",
              "home_team_weighted_points    0.198956  ...                   1.000000\n",
              "\n",
              "[4 rows x 4 columns]"
            ]
          },
          "metadata": {},
          "execution_count": 103
        }
      ]
    },
    {
      "cell_type": "code",
      "metadata": {
        "id": "uNmp8ElLuo52",
        "colab": {
          "base_uri": "https://localhost:8080/",
          "height": 174
        },
        "outputId": "282f8d14-d913-4e81-cf2f-b5aba50595f7"
      },
      "source": [
        "#Checking for multicollinearlity in the home dataset\n",
        "\n",
        "pd.DataFrame(np.linalg.inv(correlations.values), index = correlations.index, columns=correlations.columns)\n"
      ],
      "execution_count": 75,
      "outputs": [
        {
          "output_type": "execute_result",
          "data": {
            "text/html": [
              "<div>\n",
              "<style scoped>\n",
              "    .dataframe tbody tr th:only-of-type {\n",
              "        vertical-align: middle;\n",
              "    }\n",
              "\n",
              "    .dataframe tbody tr th {\n",
              "        vertical-align: top;\n",
              "    }\n",
              "\n",
              "    .dataframe thead th {\n",
              "        text-align: right;\n",
              "    }\n",
              "</style>\n",
              "<table border=\"1\" class=\"dataframe\">\n",
              "  <thead>\n",
              "    <tr style=\"text-align: right;\">\n",
              "      <th></th>\n",
              "      <th>tournament</th>\n",
              "      <th>home_team_rank</th>\n",
              "      <th>away_team_rank</th>\n",
              "      <th>home_team_weighted_points</th>\n",
              "    </tr>\n",
              "  </thead>\n",
              "  <tbody>\n",
              "    <tr>\n",
              "      <th>tournament</th>\n",
              "      <td>1.051923</td>\n",
              "      <td>-0.051443</td>\n",
              "      <td>0.122594</td>\n",
              "      <td>-0.195305</td>\n",
              "    </tr>\n",
              "    <tr>\n",
              "      <th>home_team_rank</th>\n",
              "      <td>-0.051443</td>\n",
              "      <td>7.097409</td>\n",
              "      <td>-0.618914</td>\n",
              "      <td>6.256549</td>\n",
              "    </tr>\n",
              "    <tr>\n",
              "      <th>away_team_rank</th>\n",
              "      <td>0.122594</td>\n",
              "      <td>-0.618914</td>\n",
              "      <td>1.403615</td>\n",
              "      <td>0.108038</td>\n",
              "    </tr>\n",
              "    <tr>\n",
              "      <th>home_team_weighted_points</th>\n",
              "      <td>-0.195305</td>\n",
              "      <td>6.256549</td>\n",
              "      <td>0.108038</td>\n",
              "      <td>6.873072</td>\n",
              "    </tr>\n",
              "  </tbody>\n",
              "</table>\n",
              "</div>"
            ],
            "text/plain": [
              "                           tournament  ...  home_team_weighted_points\n",
              "tournament                   1.051923  ...                  -0.195305\n",
              "home_team_rank              -0.051443  ...                   6.256549\n",
              "away_team_rank               0.122594  ...                   0.108038\n",
              "home_team_weighted_points   -0.195305  ...                   6.873072\n",
              "\n",
              "[4 rows x 4 columns]"
            ]
          },
          "metadata": {},
          "execution_count": 75
        }
      ]
    },
    {
      "cell_type": "markdown",
      "metadata": {
        "id": "IeeY_g70w9SF"
      },
      "source": [
        "\n",
        "\n",
        "home_team_rank and home_team_weighted_points has a value approaching 7,meaning critical levels of multicollinearity where the coefficients are poorly estimated, and the p-values are questionable. We remove one of them from our dataset to check if the VIF of our dataset will improve. "
      ]
    },
    {
      "cell_type": "code",
      "metadata": {
        "id": "Sw48muBxyw5e",
        "colab": {
          "base_uri": "https://localhost:8080/",
          "height": 143
        },
        "outputId": "c86a4ed8-c0d8-410e-e09b-22a8f8531213"
      },
      "source": [
        "# Dropping the column for weighted points\n",
        "ind_home = ind_home.drop(columns=['home_team_weighted_points'])\n",
        "correlations = ind_home.corr()\n",
        "pd.DataFrame(np.linalg.inv(correlations.values), index = correlations.index, columns=correlations.columns)\n",
        "\n"
      ],
      "execution_count": 76,
      "outputs": [
        {
          "output_type": "execute_result",
          "data": {
            "text/html": [
              "<div>\n",
              "<style scoped>\n",
              "    .dataframe tbody tr th:only-of-type {\n",
              "        vertical-align: middle;\n",
              "    }\n",
              "\n",
              "    .dataframe tbody tr th {\n",
              "        vertical-align: top;\n",
              "    }\n",
              "\n",
              "    .dataframe thead th {\n",
              "        text-align: right;\n",
              "    }\n",
              "</style>\n",
              "<table border=\"1\" class=\"dataframe\">\n",
              "  <thead>\n",
              "    <tr style=\"text-align: right;\">\n",
              "      <th></th>\n",
              "      <th>tournament</th>\n",
              "      <th>home_team_rank</th>\n",
              "      <th>away_team_rank</th>\n",
              "    </tr>\n",
              "  </thead>\n",
              "  <tbody>\n",
              "    <tr>\n",
              "      <th>tournament</th>\n",
              "      <td>1.046374</td>\n",
              "      <td>0.126343</td>\n",
              "      <td>0.125664</td>\n",
              "    </tr>\n",
              "    <tr>\n",
              "      <th>home_team_rank</th>\n",
              "      <td>0.126343</td>\n",
              "      <td>1.402080</td>\n",
              "      <td>-0.717260</td>\n",
              "    </tr>\n",
              "    <tr>\n",
              "      <th>away_team_rank</th>\n",
              "      <td>0.125664</td>\n",
              "      <td>-0.717260</td>\n",
              "      <td>1.401917</td>\n",
              "    </tr>\n",
              "  </tbody>\n",
              "</table>\n",
              "</div>"
            ],
            "text/plain": [
              "                tournament  home_team_rank  away_team_rank\n",
              "tournament        1.046374        0.126343        0.125664\n",
              "home_team_rank    0.126343        1.402080       -0.717260\n",
              "away_team_rank    0.125664       -0.717260        1.401917"
            ]
          },
          "metadata": {},
          "execution_count": 76
        }
      ]
    },
    {
      "cell_type": "markdown",
      "metadata": {
        "id": "vhvkX4tI0LP2"
      },
      "source": [
        "The VIF for home_team_rank has dropped drastically to a value of 1"
      ]
    },
    {
      "cell_type": "code",
      "metadata": {
        "id": "hQt4988A0Vg4",
        "colab": {
          "base_uri": "https://localhost:8080/",
          "height": 143
        },
        "outputId": "b5c2d848-b914-4b6c-ab02-a98dd00f849c"
      },
      "source": [
        "#Checking for multicollinearlity in the away dataset\n",
        "ind_away = away.drop(columns=['away_score', 'away_team_weighted_points'])\n",
        "correlations = ind_away.corr()\n",
        "pd.DataFrame(np.linalg.inv(correlations.values), index = correlations.index, columns=correlations.columns)\n",
        "\n"
      ],
      "execution_count": 77,
      "outputs": [
        {
          "output_type": "execute_result",
          "data": {
            "text/html": [
              "<div>\n",
              "<style scoped>\n",
              "    .dataframe tbody tr th:only-of-type {\n",
              "        vertical-align: middle;\n",
              "    }\n",
              "\n",
              "    .dataframe tbody tr th {\n",
              "        vertical-align: top;\n",
              "    }\n",
              "\n",
              "    .dataframe thead th {\n",
              "        text-align: right;\n",
              "    }\n",
              "</style>\n",
              "<table border=\"1\" class=\"dataframe\">\n",
              "  <thead>\n",
              "    <tr style=\"text-align: right;\">\n",
              "      <th></th>\n",
              "      <th>tournament</th>\n",
              "      <th>home_team_rank</th>\n",
              "      <th>away_team_rank</th>\n",
              "    </tr>\n",
              "  </thead>\n",
              "  <tbody>\n",
              "    <tr>\n",
              "      <th>tournament</th>\n",
              "      <td>1.046374</td>\n",
              "      <td>0.126343</td>\n",
              "      <td>0.125664</td>\n",
              "    </tr>\n",
              "    <tr>\n",
              "      <th>home_team_rank</th>\n",
              "      <td>0.126343</td>\n",
              "      <td>1.402080</td>\n",
              "      <td>-0.717260</td>\n",
              "    </tr>\n",
              "    <tr>\n",
              "      <th>away_team_rank</th>\n",
              "      <td>0.125664</td>\n",
              "      <td>-0.717260</td>\n",
              "      <td>1.401917</td>\n",
              "    </tr>\n",
              "  </tbody>\n",
              "</table>\n",
              "</div>"
            ],
            "text/plain": [
              "                tournament  home_team_rank  away_team_rank\n",
              "tournament        1.046374        0.126343        0.125664\n",
              "home_team_rank    0.126343        1.402080       -0.717260\n",
              "away_team_rank    0.125664       -0.717260        1.401917"
            ]
          },
          "metadata": {},
          "execution_count": 77
        }
      ]
    },
    {
      "cell_type": "markdown",
      "metadata": {
        "id": "pSSiAgAJ1QiC"
      },
      "source": [
        "We separate the target and remove the weighted points column, the VIF turns out great"
      ]
    },
    {
      "cell_type": "code",
      "metadata": {
        "id": "VYoYTXd0LUvP",
        "colab": {
          "base_uri": "https://localhost:8080/",
          "height": 289
        },
        "outputId": "a0fc3072-2ff9-4ea8-a353-9a20186acc68"
      },
      "source": [
        "#Checking for multicollinearlity in the data datasets\n",
        "#(We will use this dataset for logistic regression)\n",
        "#Checking for multicollinearlity in the away dataset\n",
        "matches = df.drop(columns=['Status'])\n",
        "correlations = matches.corr()\n",
        "pd.DataFrame(np.linalg.inv(correlations.values), index = correlations.index, columns=correlations.columns)"
      ],
      "execution_count": 79,
      "outputs": [
        {
          "output_type": "execute_result",
          "data": {
            "text/html": [
              "<div>\n",
              "<style scoped>\n",
              "    .dataframe tbody tr th:only-of-type {\n",
              "        vertical-align: middle;\n",
              "    }\n",
              "\n",
              "    .dataframe tbody tr th {\n",
              "        vertical-align: top;\n",
              "    }\n",
              "\n",
              "    .dataframe thead th {\n",
              "        text-align: right;\n",
              "    }\n",
              "</style>\n",
              "<table border=\"1\" class=\"dataframe\">\n",
              "  <thead>\n",
              "    <tr style=\"text-align: right;\">\n",
              "      <th></th>\n",
              "      <th>home_score</th>\n",
              "      <th>away_score</th>\n",
              "      <th>tournament</th>\n",
              "      <th>home_team_rank</th>\n",
              "      <th>home_team_weighted_points</th>\n",
              "      <th>away_team_rank</th>\n",
              "      <th>away_team_weighted_points</th>\n",
              "    </tr>\n",
              "  </thead>\n",
              "  <tbody>\n",
              "    <tr>\n",
              "      <th>home_score</th>\n",
              "      <td>1.269370</td>\n",
              "      <td>-0.027232</td>\n",
              "      <td>0.011466</td>\n",
              "      <td>0.283421</td>\n",
              "      <td>-0.280219</td>\n",
              "      <td>-0.737329</td>\n",
              "      <td>-0.094806</td>\n",
              "    </tr>\n",
              "    <tr>\n",
              "      <th>away_score</th>\n",
              "      <td>-0.027232</td>\n",
              "      <td>1.226536</td>\n",
              "      <td>-0.019620</td>\n",
              "      <td>-0.573384</td>\n",
              "      <td>-0.037425</td>\n",
              "      <td>0.230368</td>\n",
              "      <td>-0.330083</td>\n",
              "    </tr>\n",
              "    <tr>\n",
              "      <th>tournament</th>\n",
              "      <td>0.011466</td>\n",
              "      <td>-0.019620</td>\n",
              "      <td>1.061358</td>\n",
              "      <td>0.004751</td>\n",
              "      <td>-0.148242</td>\n",
              "      <td>-0.124150</td>\n",
              "      <td>-0.253951</td>\n",
              "    </tr>\n",
              "    <tr>\n",
              "      <th>home_team_rank</th>\n",
              "      <td>0.283421</td>\n",
              "      <td>-0.573384</td>\n",
              "      <td>0.004751</td>\n",
              "      <td>7.644301</td>\n",
              "      <td>6.456155</td>\n",
              "      <td>-2.054350</td>\n",
              "      <td>-1.146166</td>\n",
              "    </tr>\n",
              "    <tr>\n",
              "      <th>home_team_weighted_points</th>\n",
              "      <td>-0.280219</td>\n",
              "      <td>-0.037425</td>\n",
              "      <td>-0.148242</td>\n",
              "      <td>6.456155</td>\n",
              "      <td>7.201513</td>\n",
              "      <td>-1.019485</td>\n",
              "      <td>-1.367319</td>\n",
              "    </tr>\n",
              "    <tr>\n",
              "      <th>away_team_rank</th>\n",
              "      <td>-0.737329</td>\n",
              "      <td>0.230368</td>\n",
              "      <td>-0.124150</td>\n",
              "      <td>-2.054350</td>\n",
              "      <td>-1.019485</td>\n",
              "      <td>8.077120</td>\n",
              "      <td>6.772425</td>\n",
              "    </tr>\n",
              "    <tr>\n",
              "      <th>away_team_weighted_points</th>\n",
              "      <td>-0.094806</td>\n",
              "      <td>-0.330083</td>\n",
              "      <td>-0.253951</td>\n",
              "      <td>-1.146166</td>\n",
              "      <td>-1.367319</td>\n",
              "      <td>6.772425</td>\n",
              "      <td>7.492275</td>\n",
              "    </tr>\n",
              "  </tbody>\n",
              "</table>\n",
              "</div>"
            ],
            "text/plain": [
              "                           home_score  ...  away_team_weighted_points\n",
              "home_score                   1.269370  ...                  -0.094806\n",
              "away_score                  -0.027232  ...                  -0.330083\n",
              "tournament                   0.011466  ...                  -0.253951\n",
              "home_team_rank               0.283421  ...                  -1.146166\n",
              "home_team_weighted_points   -0.280219  ...                  -1.367319\n",
              "away_team_rank              -0.737329  ...                   6.772425\n",
              "away_team_weighted_points   -0.094806  ...                   7.492275\n",
              "\n",
              "[7 rows x 7 columns]"
            ]
          },
          "metadata": {},
          "execution_count": 79
        }
      ]
    },
    {
      "cell_type": "markdown",
      "metadata": {
        "id": "1N4yDNcqMg9A"
      },
      "source": [
        "The VIF for team ranks and weighted points are very high, therefore we remove the columns for team weighted points and check for multicollinearlity again"
      ]
    },
    {
      "cell_type": "code",
      "metadata": {
        "id": "UOguPP8CMEtN",
        "colab": {
          "base_uri": "https://localhost:8080/",
          "height": 206
        },
        "outputId": "1da1445c-880f-4354-c027-f90ad504ec5c"
      },
      "source": [
        "matches = matches.drop(columns=['home_team_weighted_points', 'away_team_weighted_points'])\n",
        "correlations = matches.corr()\n",
        "pd.DataFrame(np.linalg.inv(correlations.values), index = correlations.index, columns=correlations.columns)"
      ],
      "execution_count": 80,
      "outputs": [
        {
          "output_type": "execute_result",
          "data": {
            "text/html": [
              "<div>\n",
              "<style scoped>\n",
              "    .dataframe tbody tr th:only-of-type {\n",
              "        vertical-align: middle;\n",
              "    }\n",
              "\n",
              "    .dataframe tbody tr th {\n",
              "        vertical-align: top;\n",
              "    }\n",
              "\n",
              "    .dataframe thead th {\n",
              "        text-align: right;\n",
              "    }\n",
              "</style>\n",
              "<table border=\"1\" class=\"dataframe\">\n",
              "  <thead>\n",
              "    <tr style=\"text-align: right;\">\n",
              "      <th></th>\n",
              "      <th>home_score</th>\n",
              "      <th>away_score</th>\n",
              "      <th>tournament</th>\n",
              "      <th>home_team_rank</th>\n",
              "      <th>away_team_rank</th>\n",
              "    </tr>\n",
              "  </thead>\n",
              "  <tbody>\n",
              "    <tr>\n",
              "      <th>home_score</th>\n",
              "      <td>1.255438</td>\n",
              "      <td>-0.035588</td>\n",
              "      <td>-0.000075</td>\n",
              "      <td>0.536267</td>\n",
              "      <td>-0.642367</td>\n",
              "    </tr>\n",
              "    <tr>\n",
              "      <th>away_score</th>\n",
              "      <td>-0.035588</td>\n",
              "      <td>1.210622</td>\n",
              "      <td>-0.033541</td>\n",
              "      <td>-0.536120</td>\n",
              "      <td>0.531777</td>\n",
              "    </tr>\n",
              "    <tr>\n",
              "      <th>tournament</th>\n",
              "      <td>-0.000075</td>\n",
              "      <td>-0.033541</td>\n",
              "      <td>1.047304</td>\n",
              "      <td>0.140756</td>\n",
              "      <td>0.111461</td>\n",
              "    </tr>\n",
              "    <tr>\n",
              "      <th>home_team_rank</th>\n",
              "      <td>0.536267</td>\n",
              "      <td>-0.536120</td>\n",
              "      <td>0.140756</td>\n",
              "      <td>1.855482</td>\n",
              "      <td>-1.212819</td>\n",
              "    </tr>\n",
              "    <tr>\n",
              "      <th>away_team_rank</th>\n",
              "      <td>-0.642367</td>\n",
              "      <td>0.531777</td>\n",
              "      <td>0.111461</td>\n",
              "      <td>-1.212819</td>\n",
              "      <td>1.948642</td>\n",
              "    </tr>\n",
              "  </tbody>\n",
              "</table>\n",
              "</div>"
            ],
            "text/plain": [
              "                home_score  away_score  ...  home_team_rank  away_team_rank\n",
              "home_score        1.255438   -0.035588  ...        0.536267       -0.642367\n",
              "away_score       -0.035588    1.210622  ...       -0.536120        0.531777\n",
              "tournament       -0.000075   -0.033541  ...        0.140756        0.111461\n",
              "home_team_rank    0.536267   -0.536120  ...        1.855482       -1.212819\n",
              "away_team_rank   -0.642367    0.531777  ...       -1.212819        1.948642\n",
              "\n",
              "[5 rows x 5 columns]"
            ]
          },
          "metadata": {},
          "execution_count": 80
        }
      ]
    },
    {
      "cell_type": "markdown",
      "metadata": {
        "id": "wguCPNoOM1QI"
      },
      "source": [
        "The values for the VIF have dropped to an acceptable score hence for modelling we will not use the feature for team weighted points"
      ]
    },
    {
      "cell_type": "markdown",
      "metadata": {
        "id": "wU8wXG-6Dmep"
      },
      "source": [
        "## 8. Modelling"
      ]
    },
    {
      "cell_type": "markdown",
      "metadata": {
        "id": "X4XH_C4sGA3r"
      },
      "source": [
        "### **Logistic Regression**"
      ]
    },
    {
      "cell_type": "code",
      "metadata": {
        "id": "43Xgms4mGHe2",
        "colab": {
          "base_uri": "https://localhost:8080/",
          "height": 206
        },
        "outputId": "ea061387-034b-469d-9644-7c2090ab922d"
      },
      "source": [
        "matches = df.drop(columns=['home_team_weighted_points', 'away_team_weighted_points'])\n",
        "matches.head()"
      ],
      "execution_count": 82,
      "outputs": [
        {
          "output_type": "execute_result",
          "data": {
            "text/html": [
              "<div>\n",
              "<style scoped>\n",
              "    .dataframe tbody tr th:only-of-type {\n",
              "        vertical-align: middle;\n",
              "    }\n",
              "\n",
              "    .dataframe tbody tr th {\n",
              "        vertical-align: top;\n",
              "    }\n",
              "\n",
              "    .dataframe thead th {\n",
              "        text-align: right;\n",
              "    }\n",
              "</style>\n",
              "<table border=\"1\" class=\"dataframe\">\n",
              "  <thead>\n",
              "    <tr style=\"text-align: right;\">\n",
              "      <th></th>\n",
              "      <th>home_team</th>\n",
              "      <th>away_team</th>\n",
              "      <th>home_score</th>\n",
              "      <th>away_score</th>\n",
              "      <th>tournament</th>\n",
              "      <th>home_team_rank</th>\n",
              "      <th>away_team_rank</th>\n",
              "      <th>Status</th>\n",
              "    </tr>\n",
              "  </thead>\n",
              "  <tbody>\n",
              "    <tr>\n",
              "      <th>0</th>\n",
              "      <td>United Arab Emirates</td>\n",
              "      <td>Qatar</td>\n",
              "      <td>3</td>\n",
              "      <td>1</td>\n",
              "      <td>22</td>\n",
              "      <td>118.75</td>\n",
              "      <td>95.0</td>\n",
              "      <td>Win</td>\n",
              "    </tr>\n",
              "    <tr>\n",
              "      <th>1</th>\n",
              "      <td>Bahrain</td>\n",
              "      <td>Qatar</td>\n",
              "      <td>0</td>\n",
              "      <td>0</td>\n",
              "      <td>21</td>\n",
              "      <td>101.50</td>\n",
              "      <td>95.0</td>\n",
              "      <td>Draw</td>\n",
              "    </tr>\n",
              "    <tr>\n",
              "      <th>2</th>\n",
              "      <td>Indonesia</td>\n",
              "      <td>Qatar</td>\n",
              "      <td>2</td>\n",
              "      <td>3</td>\n",
              "      <td>21</td>\n",
              "      <td>141.25</td>\n",
              "      <td>95.0</td>\n",
              "      <td>Lose</td>\n",
              "    </tr>\n",
              "    <tr>\n",
              "      <th>3</th>\n",
              "      <td>United Arab Emirates</td>\n",
              "      <td>Kuwait</td>\n",
              "      <td>2</td>\n",
              "      <td>3</td>\n",
              "      <td>21</td>\n",
              "      <td>118.75</td>\n",
              "      <td>98.5</td>\n",
              "      <td>Lose</td>\n",
              "    </tr>\n",
              "    <tr>\n",
              "      <th>4</th>\n",
              "      <td>Oman</td>\n",
              "      <td>Kuwait</td>\n",
              "      <td>1</td>\n",
              "      <td>0</td>\n",
              "      <td>22</td>\n",
              "      <td>96.50</td>\n",
              "      <td>98.5</td>\n",
              "      <td>Win</td>\n",
              "    </tr>\n",
              "  </tbody>\n",
              "</table>\n",
              "</div>"
            ],
            "text/plain": [
              "              home_team away_team  ...  away_team_rank  Status\n",
              "0  United Arab Emirates     Qatar  ...            95.0     Win\n",
              "1               Bahrain     Qatar  ...            95.0    Draw\n",
              "2             Indonesia     Qatar  ...            95.0    Lose\n",
              "3  United Arab Emirates    Kuwait  ...            98.5    Lose\n",
              "4                  Oman    Kuwait  ...            98.5     Win\n",
              "\n",
              "[5 rows x 8 columns]"
            ]
          },
          "metadata": {},
          "execution_count": 82
        }
      ]
    },
    {
      "cell_type": "markdown",
      "metadata": {
        "id": "v8EaXD0QH9FU"
      },
      "source": [
        "We are making a prediction for the home team, whether a game will be a win(2), lose(1) or a draw(0).\n",
        "We pick 'Status' as our target and the rest of the variables as the features. "
      ]
    },
    {
      "cell_type": "markdown",
      "metadata": {
        "id": "Vt-0tX6YNby6"
      },
      "source": [
        "**Modelling**"
      ]
    },
    {
      "cell_type": "code",
      "metadata": {
        "id": "ba33LvJNNTdW",
        "colab": {
          "base_uri": "https://localhost:8080/"
        },
        "outputId": "653d8de5-df71-4d05-c83b-6c92fe9949e7"
      },
      "source": [
        "#Splitting the data\n",
        "X = matches.iloc[:, 2:7].values\n",
        "y = matches.iloc[:, 7].values\n",
        "print(X)\n",
        "print(y)"
      ],
      "execution_count": 83,
      "outputs": [
        {
          "output_type": "stream",
          "name": "stdout",
          "text": [
            "[[  3.           1.          22.         118.75        95.        ]\n",
            " [  0.           0.          21.         101.5         95.        ]\n",
            " [  2.           3.          21.         141.25        95.        ]\n",
            " ...\n",
            " [  2.           5.           7.         154.66666667 144.5       ]\n",
            " [  3.           0.           7.          91.66666667 154.66666667]\n",
            " [  1.           1.           7.         127.5        168.66666667]]\n",
            "['Win' 'Draw' 'Lose' ... 'Lose' 'Win' 'Draw']\n"
          ]
        }
      ]
    },
    {
      "cell_type": "code",
      "metadata": {
        "id": "2arChXfLOoN3"
      },
      "source": [
        "#Training the model\n",
        "from sklearn.model_selection import train_test_split\n",
        "X_train, X_test, y_train, y_test = train_test_split(X, y, test_size = 0.2, random_state=25)"
      ],
      "execution_count": 85,
      "outputs": []
    },
    {
      "cell_type": "code",
      "metadata": {
        "id": "k2_WTilMO3Uc",
        "colab": {
          "base_uri": "https://localhost:8080/"
        },
        "outputId": "f00559bc-9732-408f-c77f-78d03d1f3182"
      },
      "source": [
        "# Fitting our model\n",
        "# \n",
        "from sklearn.linear_model import LogisticRegression\n",
        "\n",
        "LogReg = LogisticRegression()\n",
        "LogReg.fit(X_train, y_train)"
      ],
      "execution_count": 86,
      "outputs": [
        {
          "output_type": "stream",
          "name": "stderr",
          "text": [
            "/usr/local/lib/python3.7/dist-packages/sklearn/linear_model/_logistic.py:940: ConvergenceWarning: lbfgs failed to converge (status=1):\n",
            "STOP: TOTAL NO. of ITERATIONS REACHED LIMIT.\n",
            "\n",
            "Increase the number of iterations (max_iter) or scale the data as shown in:\n",
            "    https://scikit-learn.org/stable/modules/preprocessing.html\n",
            "Please also refer to the documentation for alternative solver options:\n",
            "    https://scikit-learn.org/stable/modules/linear_model.html#logistic-regression\n",
            "  extra_warning_msg=_LOGISTIC_SOLVER_CONVERGENCE_MSG)\n"
          ]
        },
        {
          "output_type": "execute_result",
          "data": {
            "text/plain": [
              "LogisticRegression(C=1.0, class_weight=None, dual=False, fit_intercept=True,\n",
              "                   intercept_scaling=1, l1_ratio=None, max_iter=100,\n",
              "                   multi_class='auto', n_jobs=None, penalty='l2',\n",
              "                   random_state=None, solver='lbfgs', tol=0.0001, verbose=0,\n",
              "                   warm_start=False)"
            ]
          },
          "metadata": {},
          "execution_count": 86
        }
      ]
    },
    {
      "cell_type": "code",
      "metadata": {
        "id": "oSnsg5VCPHfd",
        "colab": {
          "base_uri": "https://localhost:8080/"
        },
        "outputId": "3f227e39-18a5-417c-a31e-d65a13786d1e"
      },
      "source": [
        "# Using our model to make a prediction\n",
        "#\n",
        "y_pred = LogReg.predict(X_test)\n",
        "y_pred"
      ],
      "execution_count": 87,
      "outputs": [
        {
          "output_type": "execute_result",
          "data": {
            "text/plain": [
              "array(['Draw', 'Lose', 'Draw', ..., 'Win', 'Lose', 'Draw'], dtype=object)"
            ]
          },
          "metadata": {},
          "execution_count": 87
        }
      ]
    },
    {
      "cell_type": "code",
      "metadata": {
        "id": "MxRIhNvMPWad",
        "colab": {
          "base_uri": "https://localhost:8080/"
        },
        "outputId": "31edfef4-61f9-43a8-ce34-f3a58114d652"
      },
      "source": [
        "# Evaluating the model\n",
        "#\n",
        "from sklearn.metrics import confusion_matrix\n",
        "confusion_matrix = confusion_matrix(y_test, y_pred)\n",
        "confusion_matrix"
      ],
      "execution_count": 88,
      "outputs": [
        {
          "output_type": "execute_result",
          "data": {
            "text/plain": [
              "array([[278,   0,   0],\n",
              "       [  0, 323,   0],\n",
              "       [  0,   0, 547]])"
            ]
          },
          "metadata": {},
          "execution_count": 88
        }
      ]
    },
    {
      "cell_type": "markdown",
      "metadata": {
        "id": "95NnmKwURIUI"
      },
      "source": [
        "From the confudsion matrix there were 278 draws, 547 wins and 323 losses, with regards to the home team. This information is in tandem with the actual figures.  \n",
        "\n"
      ]
    },
    {
      "cell_type": "code",
      "metadata": {
        "id": "hE9d1lxrQ4pG",
        "colab": {
          "base_uri": "https://localhost:8080/"
        },
        "outputId": "fc0c2a98-e797-4a96-a95c-3c49b4b33c8f"
      },
      "source": [
        "#accuracy score\n",
        "print('Accuracy of logistic regression classifier on test set: {:.2f}'.format(LogReg.score(X_test,y_test)))"
      ],
      "execution_count": 89,
      "outputs": [
        {
          "output_type": "stream",
          "name": "stdout",
          "text": [
            "Accuracy of logistic regression classifier on test set: 1.00\n"
          ]
        }
      ]
    },
    {
      "cell_type": "markdown",
      "metadata": {
        "id": "Ltk9iu_ml39i"
      },
      "source": [
        "### Challenging the solution"
      ]
    },
    {
      "cell_type": "markdown",
      "metadata": {
        "id": "G0-evdFBWF20"
      },
      "source": [
        "**Hyperparameter tuning**"
      ]
    },
    {
      "cell_type": "code",
      "metadata": {
        "id": "VQqAcHNCVBQN",
        "colab": {
          "base_uri": "https://localhost:8080/"
        },
        "outputId": "9f2d76f2-5304-4d42-896d-00e0203821c6"
      },
      "source": [
        "from sklearn.preprocessing import StandardScaler\n",
        "from sklearn.model_selection import GridSearchCV\n",
        "from sklearn.model_selection import KFold\n",
        "num_folds=10\n",
        "num_folds = 10\n",
        "seed = 7\n",
        "scoring = 'accuracy'\n",
        "results = []\n",
        "names = []\n",
        "scaler = StandardScaler().fit(X_train)\n",
        "rescaledX = scaler.transform(X_train)\n",
        "c_values = [0.1, 0.3, 0.5, 0.7, 0.9, 1.0, 1.3, 1.5, 1.7, 2.0]\n",
        "penalty = ['l1', 'l2']\n",
        "param_grid = dict(C=c_values, penalty=penalty)\n",
        "model = LogisticRegression()\n",
        "kfold = KFold(n_splits=num_folds, random_state=seed)\n",
        "grid = GridSearchCV(estimator=model, param_grid=param_grid, scoring=scoring, cv=kfold)\n",
        "grid_result = grid.fit(rescaledX, y_train)\n",
        "print(\"Best: {} using {}\".format(grid_result.best_score_, grid_result.best_params_))"
      ],
      "execution_count": 90,
      "outputs": [
        {
          "output_type": "stream",
          "name": "stderr",
          "text": [
            "/usr/local/lib/python3.7/dist-packages/sklearn/model_selection/_split.py:296: FutureWarning: Setting a random_state has no effect since shuffle is False. This will raise an error in 0.24. You should leave random_state to its default (None), or set shuffle=True.\n",
            "  FutureWarning\n",
            "/usr/local/lib/python3.7/dist-packages/sklearn/model_selection/_validation.py:536: FitFailedWarning: Estimator fit failed. The score on this train-test partition for these parameters will be set to nan. Details: \n",
            "ValueError: Solver lbfgs supports only 'l2' or 'none' penalties, got l1 penalty.\n",
            "\n",
            "  FitFailedWarning)\n",
            "/usr/local/lib/python3.7/dist-packages/sklearn/model_selection/_validation.py:536: FitFailedWarning: Estimator fit failed. The score on this train-test partition for these parameters will be set to nan. Details: \n",
            "ValueError: Solver lbfgs supports only 'l2' or 'none' penalties, got l1 penalty.\n",
            "\n",
            "  FitFailedWarning)\n",
            "/usr/local/lib/python3.7/dist-packages/sklearn/model_selection/_validation.py:536: FitFailedWarning: Estimator fit failed. The score on this train-test partition for these parameters will be set to nan. Details: \n",
            "ValueError: Solver lbfgs supports only 'l2' or 'none' penalties, got l1 penalty.\n",
            "\n",
            "  FitFailedWarning)\n",
            "/usr/local/lib/python3.7/dist-packages/sklearn/model_selection/_validation.py:536: FitFailedWarning: Estimator fit failed. The score on this train-test partition for these parameters will be set to nan. Details: \n",
            "ValueError: Solver lbfgs supports only 'l2' or 'none' penalties, got l1 penalty.\n",
            "\n",
            "  FitFailedWarning)\n",
            "/usr/local/lib/python3.7/dist-packages/sklearn/model_selection/_validation.py:536: FitFailedWarning: Estimator fit failed. The score on this train-test partition for these parameters will be set to nan. Details: \n",
            "ValueError: Solver lbfgs supports only 'l2' or 'none' penalties, got l1 penalty.\n",
            "\n",
            "  FitFailedWarning)\n",
            "/usr/local/lib/python3.7/dist-packages/sklearn/model_selection/_validation.py:536: FitFailedWarning: Estimator fit failed. The score on this train-test partition for these parameters will be set to nan. Details: \n",
            "ValueError: Solver lbfgs supports only 'l2' or 'none' penalties, got l1 penalty.\n",
            "\n",
            "  FitFailedWarning)\n",
            "/usr/local/lib/python3.7/dist-packages/sklearn/model_selection/_validation.py:536: FitFailedWarning: Estimator fit failed. The score on this train-test partition for these parameters will be set to nan. Details: \n",
            "ValueError: Solver lbfgs supports only 'l2' or 'none' penalties, got l1 penalty.\n",
            "\n",
            "  FitFailedWarning)\n",
            "/usr/local/lib/python3.7/dist-packages/sklearn/model_selection/_validation.py:536: FitFailedWarning: Estimator fit failed. The score on this train-test partition for these parameters will be set to nan. Details: \n",
            "ValueError: Solver lbfgs supports only 'l2' or 'none' penalties, got l1 penalty.\n",
            "\n",
            "  FitFailedWarning)\n",
            "/usr/local/lib/python3.7/dist-packages/sklearn/model_selection/_validation.py:536: FitFailedWarning: Estimator fit failed. The score on this train-test partition for these parameters will be set to nan. Details: \n",
            "ValueError: Solver lbfgs supports only 'l2' or 'none' penalties, got l1 penalty.\n",
            "\n",
            "  FitFailedWarning)\n",
            "/usr/local/lib/python3.7/dist-packages/sklearn/model_selection/_validation.py:536: FitFailedWarning: Estimator fit failed. The score on this train-test partition for these parameters will be set to nan. Details: \n",
            "ValueError: Solver lbfgs supports only 'l2' or 'none' penalties, got l1 penalty.\n",
            "\n",
            "  FitFailedWarning)\n"
          ]
        },
        {
          "output_type": "stream",
          "name": "stdout",
          "text": [
            "Best: 1.0 using {'C': 0.1, 'penalty': 'l2'}\n"
          ]
        }
      ]
    },
    {
      "cell_type": "markdown",
      "metadata": {
        "id": "Rz4JnyK1W5Xq"
      },
      "source": [
        "**Validating the model**"
      ]
    },
    {
      "cell_type": "code",
      "metadata": {
        "id": "obTIeP9nW4TG",
        "colab": {
          "base_uri": "https://localhost:8080/"
        },
        "outputId": "6d54c5bd-9096-4775-b2d3-c3bf79ed0e24"
      },
      "source": [
        "#Data preparation\n",
        "scaler = StandardScaler().fit(X_train)\n",
        "s_X = scaler.transform(X_train)\n",
        "model = LogisticRegression(C=0.1, penalty='l2')\n",
        "model.fit(s_X, y_train)"
      ],
      "execution_count": 91,
      "outputs": [
        {
          "output_type": "execute_result",
          "data": {
            "text/plain": [
              "LogisticRegression(C=0.1, class_weight=None, dual=False, fit_intercept=True,\n",
              "                   intercept_scaling=1, l1_ratio=None, max_iter=100,\n",
              "                   multi_class='auto', n_jobs=None, penalty='l2',\n",
              "                   random_state=None, solver='lbfgs', tol=0.0001, verbose=0,\n",
              "                   warm_start=False)"
            ]
          },
          "metadata": {},
          "execution_count": 91
        }
      ]
    },
    {
      "cell_type": "code",
      "metadata": {
        "id": "NTfHs7gEXbY2",
        "colab": {
          "base_uri": "https://localhost:8080/"
        },
        "outputId": "45d7be9e-4ef6-47b5-fba1-d8ca11c4cca9"
      },
      "source": [
        "from sklearn.metrics import accuracy_score\n",
        "#Estimating accuracy\n",
        "s_X_test = scaler.transform(X_test)\n",
        "predictions = model.predict(s_X_test)\n",
        "print(accuracy_score(y_test, predictions))\n"
      ],
      "execution_count": 92,
      "outputs": [
        {
          "output_type": "stream",
          "name": "stdout",
          "text": [
            "1.0\n"
          ]
        }
      ]
    },
    {
      "cell_type": "markdown",
      "metadata": {
        "id": "vr6uUzBR3MaL"
      },
      "source": [
        "There are no residuals in this logistic model. "
      ]
    }
  ]
}